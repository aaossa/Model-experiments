{
 "cells": [
  {
   "cell_type": "code",
   "execution_count": null,
   "metadata": {},
   "outputs": [],
   "source": [
    "import os\n",
    "from glob import glob\n",
    "from random import sample\n",
    "\n",
    "import matplotlib.pyplot as plt\n",
    "from PIL import Image\n"
   ]
  },
  {
   "cell_type": "markdown",
   "metadata": {},
   "source": [
    "# Create dataset samples"
   ]
  },
  {
   "cell_type": "code",
   "execution_count": null,
   "metadata": {},
   "outputs": [],
   "source": [
    "# Size of grid\n",
    "COLUMNS, ROWS = 7, 7\n",
    "# Size of figure\n",
    "FIGSIZE = (16, 12)\n"
   ]
  },
  {
   "cell_type": "code",
   "execution_count": null,
   "metadata": {},
   "outputs": [],
   "source": [
    "# Parameters\n",
    "IMAGES_EXT = [\"*.gif\", \"*.jpg\", \"*.jpeg\", \"*.png\", \"*.webp\"]\n",
    "\n",
    "# Dataset\n",
    "DATASET = \"UGallery\"\n",
    "assert DATASET in [\"UGallery\", \"Wikimedia\", \"Pinterest\"]\n",
    "\n",
    "# Images path\n",
    "IMAGES_DIR = None\n",
    "if DATASET == \"UGallery\":\n",
    "    # ~35s\n",
    "    IMAGES_DIR = os.path.join(\"/\", \"mnt\", \"workspace\", \"Ugallery\", \"images\")\n",
    "elif DATASET == \"Wikimedia\":\n",
    "    # ~1h 10m\n",
    "    IMAGES_DIR = os.path.join(\"/\", \"mnt\", \"data2\", \"wikimedia\", \"images\", \"img\")\n",
    "elif DATASET == \"Pinterest\":\n",
    "    # ~2h\n",
    "    IMAGES_DIR = os.path.join(\"/\", \"mnt\", \"data2\", \"pinterest_iccv\", \"images\")\n"
   ]
  },
  {
   "cell_type": "code",
   "execution_count": null,
   "metadata": {},
   "outputs": [],
   "source": [
    "import PIL\n",
    "from PIL import ImageFile\n",
    "\n",
    "\n",
    "# Needed for some images in Pinterest and Wikimedia dataset\n",
    "PIL.Image.MAX_IMAGE_PIXELS = 3_000_000_000\n",
    "# Some images are \"broken\" in Wikimedia dataset\n",
    "ImageFile.LOAD_TRUNCATED_IMAGES = True\n"
   ]
  },
  {
   "cell_type": "code",
   "execution_count": null,
   "metadata": {},
   "outputs": [],
   "source": [
    "# Random sample of COLUMNS * ROWS images from DATASET\n",
    "images = []\n",
    "for ext in sorted(IMAGES_EXT):\n",
    "    # List images in folder by pattern\n",
    "    pattern = os.path.join(IMAGES_DIR, ext)\n",
    "    # Use glob over iglob to sort and calculate length\n",
    "    images.extend(sorted(glob(pattern)))\n",
    "\n",
    "images = sample(images, COLUMNS * ROWS)\n"
   ]
  },
  {
   "cell_type": "markdown",
   "metadata": {},
   "source": [
    "Code to create grid figure taken from [Image t-SNE, available at Nextjournal](https://nextjournal.com/ml4a/image-t-sne):"
   ]
  },
  {
   "cell_type": "code",
   "execution_count": null,
   "metadata": {},
   "outputs": [],
   "source": [
    "# Create grid figure\n",
    "# (https://nextjournal.com/ml4a/image-t-sne)\n",
    "\n",
    "tile_width = 72\n",
    "tile_height = 56\n",
    "\n",
    "full_width = tile_width * COLUMNS\n",
    "full_height = tile_height * ROWS\n",
    "aspect_ratio = float(tile_width) / tile_height\n",
    "\n",
    "grid_image = Image.new(\"RGB\", (full_width, full_height))\n",
    "\n",
    "positions = [(x, y) for x in range(COLUMNS) for y in range(ROWS)]\n",
    "for img, grid_pos in zip(images, positions):\n",
    "    idx_x, idx_y = grid_pos\n",
    "    x, y = tile_width * idx_x, tile_height * idx_y\n",
    "    tile = Image.open(img)\n",
    "    tile_ar = float(tile.width) / tile.height  # center-crop the tile to match aspect_ratio\n",
    "    if (tile_ar > aspect_ratio):\n",
    "        margin = 0.5 * (tile.width - aspect_ratio * tile.height)\n",
    "        tile = tile.crop((margin, 0, margin + aspect_ratio * tile.height, tile.height))\n",
    "    else:\n",
    "        margin = 0.5 * (tile.height - float(tile.width) / aspect_ratio)\n",
    "        tile = tile.crop((0, margin, tile.width, margin + float(tile.width) / aspect_ratio))\n",
    "    tile = tile.resize((tile_width, tile_height), Image.ANTIALIAS)\n",
    "    grid_image.paste(tile, (int(x), int(y)))\n",
    "\n",
    "plt.figure(figsize=FIGSIZE)\n",
    "plt.axis(\"off\")\n",
    "plt.imshow(grid_image)\n"
   ]
  }
 ],
 "metadata": {
  "kernelspec": {
   "display_name": "3.8.5",
   "language": "python",
   "name": "3.8.5"
  },
  "language_info": {
   "codemirror_mode": {
    "name": "ipython",
    "version": 3
   },
   "file_extension": ".py",
   "mimetype": "text/x-python",
   "name": "python",
   "nbconvert_exporter": "python",
   "pygments_lexer": "ipython3",
   "version": "3.8.5"
  }
 },
 "nbformat": 4,
 "nbformat_minor": 4
}
