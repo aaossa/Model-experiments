{
 "cells": [
  {
   "cell_type": "code",
   "execution_count": 1,
   "metadata": {},
   "outputs": [
    {
     "name": "stdout",
     "output_type": "stream",
     "text": [
      "Python 3.8.1\r\n"
     ]
    }
   ],
   "source": [
    "!python3 --version"
   ]
  },
  {
   "cell_type": "code",
   "execution_count": 2,
   "metadata": {},
   "outputs": [
    {
     "name": "stdout",
     "output_type": "stream",
     "text": [
      "pip 20.0.2 from /home/aaossa/.local/lib/python3.8/site-packages/pip (python 3.8)\r\n"
     ]
    }
   ],
   "source": [
    "!python3 -m pip --version"
   ]
  },
  {
   "cell_type": "code",
   "execution_count": 3,
   "metadata": {
    "scrolled": true
   },
   "outputs": [
    {
     "name": "stdout",
     "output_type": "stream",
     "text": [
      "Defaulting to user installation because normal site-packages is not writeable\n",
      "Requirement already satisfied: numpy==1.18.1 in /home/aaossa/.local/lib/python3.8/site-packages (from -r requirements/common.txt (line 1)) (1.18.1)\n",
      "Requirement already satisfied: pandas==1.0.3 in /home/aaossa/.local/lib/python3.8/site-packages (from -r requirements/common.txt (line 2)) (1.0.3)\n",
      "Requirement already satisfied: scikit-learn==0.22.2.post1 in /home/aaossa/.local/lib/python3.8/site-packages (from -r requirements/common.txt (line 3)) (0.22.2.post1)\n",
      "Requirement already satisfied: torch==1.4.0 in /home/aaossa/.local/lib/python3.8/site-packages (from -r requirements/common.txt (line 4)) (1.4.0+cpu)\n",
      "Requirement already satisfied: line_profiler==3.0.2 in /home/aaossa/.local/lib/python3.8/site-packages (from -r requirements/dev.txt (line 2)) (3.0.2)\n",
      "Requirement already satisfied: seaborn==0.10.0 in /home/aaossa/.local/lib/python3.8/site-packages (from -r requirements/dev.txt (line 3)) (0.10.0)\n",
      "Requirement already satisfied: tqdm==4.45.0 in /home/aaossa/.local/lib/python3.8/site-packages (from -r requirements/dev.txt (line 4)) (4.45.0)\n",
      "Requirement already satisfied: pytz>=2017.2 in /home/aaossa/.local/lib/python3.8/site-packages (from pandas==1.0.3->-r requirements/common.txt (line 2)) (2019.3)\n",
      "Requirement already satisfied: python-dateutil>=2.6.1 in /home/aaossa/.local/lib/python3.8/site-packages (from pandas==1.0.3->-r requirements/common.txt (line 2)) (2.8.1)\n",
      "Requirement already satisfied: scipy>=0.17.0 in /home/aaossa/.local/lib/python3.8/site-packages (from scikit-learn==0.22.2.post1->-r requirements/common.txt (line 3)) (1.4.1)\n",
      "Requirement already satisfied: joblib>=0.11 in /home/aaossa/.local/lib/python3.8/site-packages (from scikit-learn==0.22.2.post1->-r requirements/common.txt (line 3)) (0.14.1)\n",
      "Requirement already satisfied: IPython in /home/aaossa/.local/lib/python3.8/site-packages (from line_profiler==3.0.2->-r requirements/dev.txt (line 2)) (7.11.1)\n",
      "Requirement already satisfied: matplotlib>=2.1.2 in /home/aaossa/.local/lib/python3.8/site-packages (from seaborn==0.10.0->-r requirements/dev.txt (line 3)) (3.2.1)\n",
      "Requirement already satisfied: six>=1.5 in /home/aaossa/.local/lib/python3.8/site-packages (from python-dateutil>=2.6.1->pandas==1.0.3->-r requirements/common.txt (line 2)) (1.14.0)\n",
      "Requirement already satisfied: decorator in /home/aaossa/.local/lib/python3.8/site-packages (from IPython->line_profiler==3.0.2->-r requirements/dev.txt (line 2)) (4.4.1)\n",
      "Requirement already satisfied: pygments in /home/aaossa/.local/lib/python3.8/site-packages (from IPython->line_profiler==3.0.2->-r requirements/dev.txt (line 2)) (2.5.2)\n",
      "Requirement already satisfied: backcall in /home/aaossa/.local/lib/python3.8/site-packages (from IPython->line_profiler==3.0.2->-r requirements/dev.txt (line 2)) (0.1.0)\n",
      "Requirement already satisfied: traitlets>=4.2 in /home/aaossa/.local/lib/python3.8/site-packages (from IPython->line_profiler==3.0.2->-r requirements/dev.txt (line 2)) (4.3.3)\n",
      "Requirement already satisfied: pickleshare in /home/aaossa/.local/lib/python3.8/site-packages (from IPython->line_profiler==3.0.2->-r requirements/dev.txt (line 2)) (0.7.5)\n",
      "Requirement already satisfied: jedi>=0.10 in /home/aaossa/.local/lib/python3.8/site-packages (from IPython->line_profiler==3.0.2->-r requirements/dev.txt (line 2)) (0.15.2)\n",
      "Requirement already satisfied: setuptools>=18.5 in /usr/local/lib/python3.8/site-packages (from IPython->line_profiler==3.0.2->-r requirements/dev.txt (line 2)) (41.2.0)\n",
      "Requirement already satisfied: pexpect; sys_platform != \"win32\" in /home/aaossa/.local/lib/python3.8/site-packages (from IPython->line_profiler==3.0.2->-r requirements/dev.txt (line 2)) (4.8.0)\n",
      "Requirement already satisfied: prompt-toolkit!=3.0.0,!=3.0.1,<3.1.0,>=2.0.0 in /home/aaossa/.local/lib/python3.8/site-packages (from IPython->line_profiler==3.0.2->-r requirements/dev.txt (line 2)) (3.0.2)\n",
      "Requirement already satisfied: pyparsing!=2.0.4,!=2.1.2,!=2.1.6,>=2.0.1 in /home/aaossa/.local/lib/python3.8/site-packages (from matplotlib>=2.1.2->seaborn==0.10.0->-r requirements/dev.txt (line 3)) (2.4.7)\n",
      "Requirement already satisfied: cycler>=0.10 in /home/aaossa/.local/lib/python3.8/site-packages (from matplotlib>=2.1.2->seaborn==0.10.0->-r requirements/dev.txt (line 3)) (0.10.0)\n",
      "Requirement already satisfied: kiwisolver>=1.0.1 in /home/aaossa/.local/lib/python3.8/site-packages (from matplotlib>=2.1.2->seaborn==0.10.0->-r requirements/dev.txt (line 3)) (1.2.0)\n",
      "Requirement already satisfied: ipython-genutils in /home/aaossa/.local/lib/python3.8/site-packages (from traitlets>=4.2->IPython->line_profiler==3.0.2->-r requirements/dev.txt (line 2)) (0.2.0)\n",
      "Requirement already satisfied: parso>=0.5.2 in /home/aaossa/.local/lib/python3.8/site-packages (from jedi>=0.10->IPython->line_profiler==3.0.2->-r requirements/dev.txt (line 2)) (0.5.2)\n",
      "Requirement already satisfied: ptyprocess>=0.5 in /home/aaossa/.local/lib/python3.8/site-packages (from pexpect; sys_platform != \"win32\"->IPython->line_profiler==3.0.2->-r requirements/dev.txt (line 2)) (0.6.0)\n",
      "Requirement already satisfied: wcwidth in /home/aaossa/.local/lib/python3.8/site-packages (from prompt-toolkit!=3.0.0,!=3.0.1,<3.1.0,>=2.0.0->IPython->line_profiler==3.0.2->-r requirements/dev.txt (line 2)) (0.1.8)\n"
     ]
    }
   ],
   "source": [
    "!python3 -m pip install -r requirements/dev.txt"
   ]
  },
  {
   "cell_type": "code",
   "execution_count": 4,
   "metadata": {},
   "outputs": [
    {
     "name": "stdout",
     "output_type": "stream",
     "text": [
      "total 482M\r\n",
      "4.0K README.md\t\t     540K ugallery_inventory.csv\r\n",
      "4.0K Readme.txt\t\t     420K ugallery_purchases.csv\r\n",
      "240K evaluation_public.json  260M ugallery_resnet50_embeddings.npy\r\n",
      "   0 private\t\t      11M validation_public.csv\r\n",
      "211M train_public.csv\r\n"
     ]
    }
   ],
   "source": [
    "!ls data/Ugallery -sh"
   ]
  },
  {
   "cell_type": "markdown",
   "metadata": {},
   "source": [
    "# Data processing procedure"
   ]
  },
  {
   "cell_type": "code",
   "execution_count": 5,
   "metadata": {},
   "outputs": [],
   "source": [
    "%load_ext autoreload\n",
    "%autoreload 2"
   ]
  },
  {
   "cell_type": "code",
   "execution_count": 6,
   "metadata": {},
   "outputs": [
    {
     "name": "stderr",
     "output_type": "stream",
     "text": [
      "/home/aaossa/.local/lib/python3.8/site-packages/pandas/compat/__init__.py:117: UserWarning: Could not import the lzma module. Your installed Python is incomplete. Attempting to use lzma compression will result in a RuntimeError.\n",
      "  warnings.warn(msg)\n",
      "/mnt/c/Users/Antonio/Desktop/CuratorNet-experiments/utils/ugallery/sampling.py:9: TqdmExperimentalWarning: Using `tqdm.autonotebook.tqdm` in notebook mode. Use `tqdm.tqdm` instead to force console mode (e.g. in jupyter console)\n",
      "  from tqdm.autonotebook import tqdm\n"
     ]
    }
   ],
   "source": [
    "import json\n",
    "from collections import defaultdict\n",
    "from math import ceil\n",
    "from os import cpu_count\n",
    "from os.path import join\n",
    "\n",
    "import pandas as pd\n",
    "from sklearn.cluster import KMeans\n",
    "from sklearn.decomposition import PCA\n",
    "from sklearn.metrics import silhouette_score\n",
    "from sklearn.preprocessing import StandardScaler\n",
    "from tqdm.notebook import tqdm\n",
    "\n",
    "from utils.ugallery.data import load_embedding, load_embedding_legacy, concatenate_embedding\n",
    "from utils.ugallery.entities import Inventory, User\n",
    "from utils.ugallery.hashing import HashesContainer\n",
    "from utils.ugallery.sampling import pre_hash, strategy_1, strategy_2, strategy_3, strategy_4, strategy_5, strategy_6"
   ]
  },
  {
   "cell_type": "markdown",
   "metadata": {},
   "source": [
    "## Creating visual clusters"
   ]
  },
  {
   "cell_type": "code",
   "execution_count": 7,
   "metadata": {},
   "outputs": [],
   "source": [
    "# TODO(Antonio): Seems like the private version has disconection between embedding data and inventory data\n",
    "# TODO(Antonio): Check if the same happens in the public version"
   ]
  },
  {
   "cell_type": "code",
   "execution_count": 8,
   "metadata": {},
   "outputs": [],
   "source": [
    "SETTINGS = {\n",
    "    \"clustering:n_times\": 1,  # Should be 20\n",
    "    \"clustering:n_init\": 1,  # Should be 8\n",
    "    \"clustering:n_jobs\": cpu_count(),  # 8 is ideal\n",
    "    \"embeddings:public\": True,\n",
    "    \"inventory:public\": True,\n",
    "}"
   ]
  },
  {
   "cell_type": "code",
   "execution_count": 9,
   "metadata": {},
   "outputs": [],
   "source": [
    "resnet50_embedding_path = join(\"data\", \"UGallery\", \"ugallery_resnet50_embeddings.npy\")\n",
    "resnet50_legacy_embedding_path = join(\"data\", \"UGallery\", \"private\", \"flatten_1.npy\")\n",
    "resnet50_legacy_ids_path = join(\"data\", \"Ugallery\", \"private\", \"ids\")\n",
    "resnext101_legacy_embedding_path = join(\"data\", \"UGallery\", \"private\", \"features.npy\")\n",
    "resnext101_legacy_ids_path = join(\"data\", \"Ugallery\", \"private\", \"ids.npy\")"
   ]
  },
  {
   "cell_type": "code",
   "execution_count": 10,
   "metadata": {},
   "outputs": [],
   "source": [
    "# Load embeddings from the available files\n",
    "if SETTINGS[\"embeddings:public\"]:\n",
    "    EMBEDDINGS = {\n",
    "        \"ResNet50 (public)\": load_embedding(resnet50_embedding_path),\n",
    "    }\n",
    "else:\n",
    "    EMBEDDINGS = {\n",
    "        \"ResNet50 (private)\": load_embedding_legacy(resnet50_legacy_embedding_path, resnet50_legacy_ids_path),\n",
    "        \"ResNeXt-101 (private)\": load_embedding_legacy(resnext101_legacy_embedding_path, resnext101_legacy_ids_path),\n",
    "    }"
   ]
  },
  {
   "cell_type": "code",
   "execution_count": 11,
   "metadata": {},
   "outputs": [
    {
     "name": "stdout",
     "output_type": "stream",
     "text": [
      "ResNet50 (public) embedding shape: (13297, 2048)\n",
      "Merge 1 embeddings into one...\n",
      "Merged embedding shape: (13297, 2048)\n"
     ]
    }
   ],
   "source": [
    "for embedding_name, embedding_data in EMBEDDINGS.items():\n",
    "    print(f\"{embedding_name} embedding shape: {embedding_data.features.shape}\")\n",
    "\n",
    "print(f\"Merge {len(EMBEDDINGS)} embeddings into one...\")\n",
    "embedding = concatenate_embedding(EMBEDDINGS)\n",
    "print(f\"Merged embedding shape: {embedding.features.shape}\")"
   ]
  },
  {
   "cell_type": "code",
   "execution_count": 12,
   "metadata": {},
   "outputs": [
    {
     "name": "stdout",
     "output_type": "stream",
     "text": [
      "z-score normalization shape: (13297, 2048)\n"
     ]
    }
   ],
   "source": [
    "# 0. z-score normalization of embedding\n",
    "embedding.features = StandardScaler().fit_transform(embedding.features)\n",
    "print(f\"z-score normalization shape: {embedding.features.shape}\")"
   ]
  },
  {
   "cell_type": "code",
   "execution_count": 13,
   "metadata": {},
   "outputs": [
    {
     "name": "stdout",
     "output_type": "stream",
     "text": [
      "PCA reduction shape: (13297, 200)\n"
     ]
    }
   ],
   "source": [
    "# 1. Conduct PCA to reduce dimension\n",
    "embedding.features = PCA(n_components=200).fit_transform(embedding.features)\n",
    "print(f\"PCA reduction shape: {embedding.features.shape}\")"
   ]
  },
  {
   "cell_type": "code",
   "execution_count": 14,
   "metadata": {},
   "outputs": [
    {
     "name": "stdout",
     "output_type": "stream",
     "text": [
      "Silhouette score (1): 0.004584513773707563 - New highest!\n",
      ">> Best Silhouette score: 0.004584513773707563\n"
     ]
    }
   ],
   "source": [
    "# 2. Perform k-means clustering with 100 clusters 20 times\n",
    "# and keep the clusterer with the highest Silhouette coefficient\n",
    "best_score = float(\"-inf\")\n",
    "best_clusterer = None\n",
    "\n",
    "for i in range(SETTINGS[\"clustering:n_times\"]):\n",
    "    clusterer = KMeans(\n",
    "        n_clusters=100,\n",
    "        max_iter=2000,\n",
    "        n_init=SETTINGS[\"clustering:n_init\"],\n",
    "        n_jobs=SETTINGS[\"clustering:n_jobs\"],\n",
    "    ).fit(embedding.features)\n",
    "    score = silhouette_score(embedding.features, clusterer.labels_)\n",
    "    if score > best_score:\n",
    "        best_clusterer = clusterer\n",
    "        best_score = score\n",
    "        print(f\"Silhouette score ({i + 1}): {score} - New highest!\")\n",
    "    else:\n",
    "        print(f\"Silhouette score ({i + 1}): {score}\")\n",
    "\n",
    "print(f\">> Best Silhouette score: {best_score}\")"
   ]
  },
  {
   "cell_type": "code",
   "execution_count": 15,
   "metadata": {},
   "outputs": [
    {
     "name": "stdout",
     "output_type": "stream",
     "text": [
      "There are n_clusters: 100\n"
     ]
    }
   ],
   "source": [
    "# 3. Label each image with its respective visual cluster\n",
    "id2cluster = dict()\n",
    "cluster2id = defaultdict(list)\n",
    "for i, label in enumerate(best_clusterer.labels_):\n",
    "    artwork_id = embedding.index2id[i]\n",
    "    id2cluster[artwork_id] = label\n",
    "    cluster2id[label].append(artwork_id)\n",
    "\n",
    "n_clusters = len(set(id2cluster.values()))\n",
    "print(f\"There are n_clusters: {n_clusters}\")"
   ]
  },
  {
   "cell_type": "markdown",
   "metadata": {},
   "source": [
    "## Sampling triples"
   ]
  },
  {
   "cell_type": "code",
   "execution_count": 16,
   "metadata": {},
   "outputs": [],
   "source": [
    "if SETTINGS[\"inventory:public\"]:\n",
    "    inventory_path = join(\"data\", \"UGallery\", \"ugallery_inventory.csv\")\n",
    "    purchases_path = join(\"data\", \"UGallery\", \"ugallery_purchases.csv\")\n",
    "    inventory = Inventory(inventory_path, purchases_path)\n",
    "else:\n",
    "    inventory_path = join(\"data\", \"UGallery\", \"private\", \"valid_artworks.csv\")\n",
    "    purchases_path = join(\"data\", \"UGallery\", \"private\", \"valid_sales.csv\")\n",
    "    inventory = Inventory(inventory_path, purchases_path, legacy=True)"
   ]
  },
  {
   "cell_type": "code",
   "execution_count": 17,
   "metadata": {},
   "outputs": [],
   "source": [
    "TOTAL_SAMPLES_TRAIN = 10_000_000\n",
    "TOTAL_SAMPLES_VALID = TOTAL_SAMPLES_TRAIN * 0.05\n",
    "\n",
    "N_STRATEGIES = 6\n",
    "N_SAMPLES_PER_STRATEGY_TRAIN = ceil(TOTAL_SAMPLES_TRAIN / N_STRATEGIES)\n",
    "N_SAMPLES_PER_STRATEGY_VALID = ceil(TOTAL_SAMPLES_VALID / N_STRATEGIES)"
   ]
  },
  {
   "cell_type": "code",
   "execution_count": 18,
   "metadata": {},
   "outputs": [],
   "source": [
    "id2artist = dict(\n",
    "    zip(\n",
    "        inventory.inventory[\"artwork_id\"],\n",
    "        inventory.inventory[\"artist_id\"],\n",
    "    ))\n",
    "artist2id = defaultdict(list)\n",
    "for artwork_id, artist_id in id2artist.items():\n",
    "    artist2id[artist_id].append(artwork_id)"
   ]
  },
  {
   "cell_type": "code",
   "execution_count": 19,
   "metadata": {},
   "outputs": [],
   "source": [
    "inventory.build_users(id2cluster, id2artist)"
   ]
  },
  {
   "cell_type": "code",
   "execution_count": 20,
   "metadata": {},
   "outputs": [],
   "source": [
    "hashes_container = HashesContainer()"
   ]
  },
  {
   "cell_type": "markdown",
   "metadata": {},
   "source": [
    "### 1) Predicting missing item in purchase basket"
   ]
  },
  {
   "cell_type": "code",
   "execution_count": 21,
   "metadata": {},
   "outputs": [
    {
     "name": "stdout",
     "output_type": "stream",
     "text": [
      "Strategy 1) Predicting missing item in purchase basket\n",
      "Valid users: 625 | Samples/user: 2667\n",
      "Target: 1666667 | Total samples: 1666875\n"
     ]
    },
    {
     "data": {
      "application/vnd.jupyter.widget-view+json": {
       "model_id": "06b52b3db2924d0497bee8769a7ad387",
       "version_major": 2,
       "version_minor": 0
      },
      "text/plain": [
       "HBox(children=(FloatProgress(value=0.0, description='Valid users', max=2919.0, style=ProgressStyle(description…"
      ]
     },
     "metadata": {},
     "output_type": "display_data"
    },
    {
     "name": "stdout",
     "output_type": "stream",
     "text": [
      "\n",
      "Hash collisions: 137535\n",
      "Samples: 1666875\n"
     ]
    },
    {
     "data": {
      "application/vnd.jupyter.widget-view+json": {
       "model_id": "1cd5625c2e094786bd951063b7c1de31",
       "version_major": 2,
       "version_minor": 0
      },
      "text/plain": [
       "HBox(children=(FloatProgress(value=0.0, description='Check S1', max=1666875.0, style=ProgressStyle(description…"
      ]
     },
     "metadata": {},
     "output_type": "display_data"
    },
    {
     "name": "stdout",
     "output_type": "stream",
     "text": [
      "\n",
      "Strategy 1) Predicting missing item in purchase basket\n",
      "Valid users: 625 | Samples/user: 134\n",
      "Target: 83334 | Total samples: 83750\n"
     ]
    },
    {
     "data": {
      "application/vnd.jupyter.widget-view+json": {
       "model_id": "9aae4e260dbb4d44ae49e222056642ca",
       "version_major": 2,
       "version_minor": 0
      },
      "text/plain": [
       "HBox(children=(FloatProgress(value=0.0, description='Valid users', max=2919.0, style=ProgressStyle(description…"
      ]
     },
     "metadata": {},
     "output_type": "display_data"
    },
    {
     "name": "stdout",
     "output_type": "stream",
     "text": [
      "\n",
      "Hash collisions: 14964\n",
      "Samples: 83750\n"
     ]
    },
    {
     "data": {
      "application/vnd.jupyter.widget-view+json": {
       "model_id": "1b5a612105cd404cbd6e1854e8abcc99",
       "version_major": 2,
       "version_minor": 0
      },
      "text/plain": [
       "HBox(children=(FloatProgress(value=0.0, description='Check S1', max=83750.0, style=ProgressStyle(description_w…"
      ]
     },
     "metadata": {},
     "output_type": "display_data"
    },
    {
     "name": "stdout",
     "output_type": "stream",
     "text": [
      "\n"
     ]
    }
   ],
   "source": [
    "s1_train = strategy_1(\n",
    "    N_SAMPLES_PER_STRATEGY_TRAIN,\n",
    "    inventory, hashes_container,\n",
    "    id2cluster, id2artist,\n",
    ")\n",
    "s1_validation = strategy_1(\n",
    "    N_SAMPLES_PER_STRATEGY_VALID,\n",
    "    inventory, hashes_container,\n",
    "    id2cluster, id2artist,\n",
    ")"
   ]
  },
  {
   "cell_type": "markdown",
   "metadata": {},
   "source": [
    "### 2) Predicting next purchase basket"
   ]
  },
  {
   "cell_type": "code",
   "execution_count": 22,
   "metadata": {},
   "outputs": [
    {
     "name": "stdout",
     "output_type": "stream",
     "text": [
      "Strategy 2) Predicting next purchase basket\n",
      "Valid users: 455 | Samples/user: 3664\n",
      "Target: 1666667 | Total samples: 1667120\n"
     ]
    },
    {
     "data": {
      "application/vnd.jupyter.widget-view+json": {
       "model_id": "4ce7381fbefa45a58c5f06c40afa8f06",
       "version_major": 2,
       "version_minor": 0
      },
      "text/plain": [
       "HBox(children=(FloatProgress(value=0.0, description='Valid users', max=2919.0, style=ProgressStyle(description…"
      ]
     },
     "metadata": {},
     "output_type": "display_data"
    },
    {
     "name": "stdout",
     "output_type": "stream",
     "text": [
      "\n",
      "Hash collisions: 384577\n",
      "Strategy 2) Predicting next purchase basket\n",
      "Samples: 1667120\n"
     ]
    },
    {
     "data": {
      "application/vnd.jupyter.widget-view+json": {
       "model_id": "81232590c1d94c7b84d1a08aaa1e9205",
       "version_major": 2,
       "version_minor": 0
      },
      "text/plain": [
       "HBox(children=(FloatProgress(value=0.0, description='Check S2', max=1667120.0, style=ProgressStyle(description…"
      ]
     },
     "metadata": {},
     "output_type": "display_data"
    },
    {
     "name": "stdout",
     "output_type": "stream",
     "text": [
      "\n",
      "Strategy 2) Predicting next purchase basket\n",
      "Valid users: 455 | Samples/user: 184\n",
      "Target: 83334 | Total samples: 83720\n"
     ]
    },
    {
     "data": {
      "application/vnd.jupyter.widget-view+json": {
       "model_id": "13d39680d5c64f259110a7decbc1a8a1",
       "version_major": 2,
       "version_minor": 0
      },
      "text/plain": [
       "HBox(children=(FloatProgress(value=0.0, description='Valid users', max=2919.0, style=ProgressStyle(description…"
      ]
     },
     "metadata": {},
     "output_type": "display_data"
    },
    {
     "name": "stdout",
     "output_type": "stream",
     "text": [
      "\n",
      "Hash collisions: 49397\n",
      "Strategy 2) Predicting next purchase basket\n",
      "Samples: 83720\n"
     ]
    },
    {
     "data": {
      "application/vnd.jupyter.widget-view+json": {
       "model_id": "822817138c7c49418cadf63cb08df40e",
       "version_major": 2,
       "version_minor": 0
      },
      "text/plain": [
       "HBox(children=(FloatProgress(value=0.0, description='Check S2', max=83720.0, style=ProgressStyle(description_w…"
      ]
     },
     "metadata": {},
     "output_type": "display_data"
    },
    {
     "name": "stdout",
     "output_type": "stream",
     "text": [
      "\n"
     ]
    }
   ],
   "source": [
    "s2_train = strategy_2(\n",
    "    N_SAMPLES_PER_STRATEGY_TRAIN,\n",
    "    inventory, hashes_container,\n",
    "    id2cluster, id2artist,\n",
    ")\n",
    "s2_validation = strategy_2(\n",
    "    N_SAMPLES_PER_STRATEGY_VALID,\n",
    "    inventory, hashes_container,\n",
    "    id2cluster, id2artist,\n",
    ")"
   ]
  },
  {
   "cell_type": "markdown",
   "metadata": {},
   "source": [
    "### 3) Recommending visually similar artworks from favorite artists"
   ]
  },
  {
   "cell_type": "code",
   "execution_count": 23,
   "metadata": {},
   "outputs": [
    {
     "name": "stdout",
     "output_type": "stream",
     "text": [
      "Strategy 3) Recommending visually similar artworks from favorite artists\n",
      "Valid users: 2214 | Samples/user: 753\n",
      "Target: 1666667 | Total samples: 1667142\n"
     ]
    },
    {
     "data": {
      "application/vnd.jupyter.widget-view+json": {
       "model_id": "18e350d1305345698bb996c8a8b4c2f9",
       "version_major": 2,
       "version_minor": 0
      },
      "text/plain": [
       "HBox(children=(FloatProgress(value=0.0, description='Valid users', max=2919.0, style=ProgressStyle(description…"
      ]
     },
     "metadata": {},
     "output_type": "display_data"
    },
    {
     "name": "stdout",
     "output_type": "stream",
     "text": [
      "\n",
      "Hash collisions: 51238\n",
      "Strategy 3) Recommending visually similar artworks from favorite artists\n",
      "Samples: 1667142\n"
     ]
    },
    {
     "data": {
      "application/vnd.jupyter.widget-view+json": {
       "model_id": "f3b0750ce418417ca605e4ce56a081b7",
       "version_major": 2,
       "version_minor": 0
      },
      "text/plain": [
       "HBox(children=(FloatProgress(value=0.0, description='Check S3', max=1667142.0, style=ProgressStyle(description…"
      ]
     },
     "metadata": {},
     "output_type": "display_data"
    },
    {
     "name": "stdout",
     "output_type": "stream",
     "text": [
      "\n",
      "Strategy 3) Recommending visually similar artworks from favorite artists\n",
      "Valid users: 2214 | Samples/user: 38\n",
      "Target: 83334 | Total samples: 84132\n"
     ]
    },
    {
     "data": {
      "application/vnd.jupyter.widget-view+json": {
       "model_id": "7741acd9705c4b05ba452327c0a5fede",
       "version_major": 2,
       "version_minor": 0
      },
      "text/plain": [
       "HBox(children=(FloatProgress(value=0.0, description='Valid users', max=2919.0, style=ProgressStyle(description…"
      ]
     },
     "metadata": {},
     "output_type": "display_data"
    },
    {
     "name": "stdout",
     "output_type": "stream",
     "text": [
      "\n",
      "Hash collisions: 4697\n",
      "Strategy 3) Recommending visually similar artworks from favorite artists\n",
      "Samples: 84132\n"
     ]
    },
    {
     "data": {
      "application/vnd.jupyter.widget-view+json": {
       "model_id": "5dcb1091da1b4f4f94e923625748464d",
       "version_major": 2,
       "version_minor": 0
      },
      "text/plain": [
       "HBox(children=(FloatProgress(value=0.0, description='Check S3', max=84132.0, style=ProgressStyle(description_w…"
      ]
     },
     "metadata": {},
     "output_type": "display_data"
    },
    {
     "name": "stdout",
     "output_type": "stream",
     "text": [
      "\n"
     ]
    }
   ],
   "source": [
    "s3_train = strategy_3(\n",
    "    N_SAMPLES_PER_STRATEGY_TRAIN,\n",
    "    inventory, hashes_container,\n",
    "    id2cluster, id2artist, cluster2id, artist2id,\n",
    ")\n",
    "s3_validation = strategy_3(\n",
    "    N_SAMPLES_PER_STRATEGY_VALID,\n",
    "    inventory, hashes_container,\n",
    "    id2cluster, id2artist, cluster2id, artist2id,\n",
    ")"
   ]
  },
  {
   "cell_type": "markdown",
   "metadata": {},
   "source": [
    "### 4) Recommending profile items from the same user profile"
   ]
  },
  {
   "cell_type": "code",
   "execution_count": 24,
   "metadata": {},
   "outputs": [
    {
     "name": "stdout",
     "output_type": "stream",
     "text": [
      "Strategy 4) Recommending profile items from the same user profile\n",
      "Valid users: 2919 | Samples/user: 571\n",
      "Target: 1666667 | Total samples: 1666749\n"
     ]
    },
    {
     "data": {
      "application/vnd.jupyter.widget-view+json": {
       "model_id": "fcc9a63c4a004233bf64ba2521d0209f",
       "version_major": 2,
       "version_minor": 0
      },
      "text/plain": [
       "HBox(children=(FloatProgress(value=0.0, description='Valid users', max=2919.0, style=ProgressStyle(description…"
      ]
     },
     "metadata": {},
     "output_type": "display_data"
    },
    {
     "name": "stdout",
     "output_type": "stream",
     "text": [
      "\n",
      "Hash collisions: 89864\n",
      "Strategy 4) Recommending profile items from the same user profile\n",
      "Samples: 1666749\n"
     ]
    },
    {
     "data": {
      "application/vnd.jupyter.widget-view+json": {
       "model_id": "53114168dfcb4c6cac0e5cbb17582d4d",
       "version_major": 2,
       "version_minor": 0
      },
      "text/plain": [
       "HBox(children=(FloatProgress(value=0.0, description='Check S4', max=1666749.0, style=ProgressStyle(description…"
      ]
     },
     "metadata": {},
     "output_type": "display_data"
    },
    {
     "name": "stdout",
     "output_type": "stream",
     "text": [
      "\n",
      "Strategy 4) Recommending profile items from the same user profile\n",
      "Valid users: 2919 | Samples/user: 29\n",
      "Target: 83334 | Total samples: 84651\n"
     ]
    },
    {
     "data": {
      "application/vnd.jupyter.widget-view+json": {
       "model_id": "7db802bb57d9487da56bc4734d39b608",
       "version_major": 2,
       "version_minor": 0
      },
      "text/plain": [
       "HBox(children=(FloatProgress(value=0.0, description='Valid users', max=2919.0, style=ProgressStyle(description…"
      ]
     },
     "metadata": {},
     "output_type": "display_data"
    },
    {
     "name": "stdout",
     "output_type": "stream",
     "text": [
      "\n",
      "Hash collisions: 8691\n",
      "Strategy 4) Recommending profile items from the same user profile\n",
      "Samples: 84651\n"
     ]
    },
    {
     "data": {
      "application/vnd.jupyter.widget-view+json": {
       "model_id": "14412dc0a2a746c7a0ccf59dbc8c4b0a",
       "version_major": 2,
       "version_minor": 0
      },
      "text/plain": [
       "HBox(children=(FloatProgress(value=0.0, description='Check S4', max=84651.0, style=ProgressStyle(description_w…"
      ]
     },
     "metadata": {},
     "output_type": "display_data"
    },
    {
     "name": "stdout",
     "output_type": "stream",
     "text": [
      "\n"
     ]
    }
   ],
   "source": [
    "s4_train = strategy_4(\n",
    "    N_SAMPLES_PER_STRATEGY_TRAIN,\n",
    "    inventory, hashes_container,\n",
    ")\n",
    "s4_validation = strategy_4(\n",
    "    N_SAMPLES_PER_STRATEGY_VALID,\n",
    "    inventory, hashes_container,\n",
    ")"
   ]
  },
  {
   "cell_type": "markdown",
   "metadata": {},
   "source": [
    "### 5) Recommending profile items given an artificially created user profile"
   ]
  },
  {
   "cell_type": "code",
   "execution_count": 25,
   "metadata": {},
   "outputs": [
    {
     "name": "stdout",
     "output_type": "stream",
     "text": [
      "Strategy 5) Recommending profile items given an artificially created user profile\n",
      "Target: 1666667 | Total samples: 1666667\n"
     ]
    },
    {
     "data": {
      "application/vnd.jupyter.widget-view+json": {
       "model_id": "2cee5f5532af4287b3ec45e48f4e351b",
       "version_major": 2,
       "version_minor": 0
      },
      "text/plain": [
       "HBox(children=(FloatProgress(value=0.0, description='Valid artificial profiles', max=1666667.0, style=Progress…"
      ]
     },
     "metadata": {},
     "output_type": "display_data"
    },
    {
     "name": "stdout",
     "output_type": "stream",
     "text": [
      "\n",
      "Hash collisions: 95155\n",
      "Strategy 5) Recommending profile items given an artificially created user profile\n",
      "Samples: 1666667\n"
     ]
    },
    {
     "data": {
      "application/vnd.jupyter.widget-view+json": {
       "model_id": "84a2cdbd6f594ad28069ea133156fba2",
       "version_major": 2,
       "version_minor": 0
      },
      "text/plain": [
       "HBox(children=(FloatProgress(value=0.0, description='Check S5', max=1666667.0, style=ProgressStyle(description…"
      ]
     },
     "metadata": {},
     "output_type": "display_data"
    },
    {
     "name": "stdout",
     "output_type": "stream",
     "text": [
      "\n",
      "Strategy 5) Recommending profile items given an artificially created user profile\n",
      "Target: 83334 | Total samples: 83334\n"
     ]
    },
    {
     "data": {
      "application/vnd.jupyter.widget-view+json": {
       "model_id": "cf9aba56ed4b4f9bba33575bd8ad56d8",
       "version_major": 2,
       "version_minor": 0
      },
      "text/plain": [
       "HBox(children=(FloatProgress(value=0.0, description='Valid artificial profiles', max=83334.0, style=ProgressSt…"
      ]
     },
     "metadata": {},
     "output_type": "display_data"
    },
    {
     "name": "stdout",
     "output_type": "stream",
     "text": [
      "\n",
      "Hash collisions: 6215\n",
      "Strategy 5) Recommending profile items given an artificially created user profile\n",
      "Samples: 83334\n"
     ]
    },
    {
     "data": {
      "application/vnd.jupyter.widget-view+json": {
       "model_id": "7f47fca608574677826f9c45c460028a",
       "version_major": 2,
       "version_minor": 0
      },
      "text/plain": [
       "HBox(children=(FloatProgress(value=0.0, description='Check S5', max=83334.0, style=ProgressStyle(description_w…"
      ]
     },
     "metadata": {},
     "output_type": "display_data"
    },
    {
     "name": "stdout",
     "output_type": "stream",
     "text": [
      "\n"
     ]
    }
   ],
   "source": [
    "s5_train = strategy_5(\n",
    "    N_SAMPLES_PER_STRATEGY_TRAIN,\n",
    "    inventory, hashes_container,\n",
    ")\n",
    "s5_validation = strategy_5(\n",
    "    N_SAMPLES_PER_STRATEGY_VALID,\n",
    "    inventory, hashes_container,\n",
    ")"
   ]
  },
  {
   "cell_type": "markdown",
   "metadata": {},
   "source": [
    "### 6) Artificial profile with a single item: recommend visually similar items from the same artist"
   ]
  },
  {
   "cell_type": "code",
   "execution_count": 26,
   "metadata": {},
   "outputs": [
    {
     "name": "stdout",
     "output_type": "stream",
     "text": [
      "Strategy 6) Artificial profile with a single item: recommend visually similar items from the same artist\n",
      "Target: 1666667 | Total samples: 1666667\n"
     ]
    },
    {
     "data": {
      "application/vnd.jupyter.widget-view+json": {
       "model_id": "52a73444119b47988c4f72f3cf1596f6",
       "version_major": 2,
       "version_minor": 0
      },
      "text/plain": [
       "HBox(children=(FloatProgress(value=0.0, description='Valid artificial profiles', max=1666667.0, style=Progress…"
      ]
     },
     "metadata": {},
     "output_type": "display_data"
    },
    {
     "name": "stdout",
     "output_type": "stream",
     "text": [
      "\n",
      "Hash collisions: 45235\n",
      "Strategy 6) Artificial profile with a single item: recommend visually similar items from the same artist\n",
      "Samples: 1666667\n"
     ]
    },
    {
     "data": {
      "application/vnd.jupyter.widget-view+json": {
       "model_id": "52cf0727f44741f19f322855cfbce16c",
       "version_major": 2,
       "version_minor": 0
      },
      "text/plain": [
       "HBox(children=(FloatProgress(value=0.0, description='Check S6', max=1666667.0, style=ProgressStyle(description…"
      ]
     },
     "metadata": {},
     "output_type": "display_data"
    },
    {
     "name": "stdout",
     "output_type": "stream",
     "text": [
      "\n",
      "Strategy 6) Artificial profile with a single item: recommend visually similar items from the same artist\n",
      "Target: 83334 | Total samples: 83334\n"
     ]
    },
    {
     "data": {
      "application/vnd.jupyter.widget-view+json": {
       "model_id": "b94d869c032c41bdb0c5cf6c2a3da903",
       "version_major": 2,
       "version_minor": 0
      },
      "text/plain": [
       "HBox(children=(FloatProgress(value=0.0, description='Valid artificial profiles', max=83334.0, style=ProgressSt…"
      ]
     },
     "metadata": {},
     "output_type": "display_data"
    },
    {
     "name": "stdout",
     "output_type": "stream",
     "text": [
      "\n",
      "Hash collisions: 2519\n",
      "Strategy 6) Artificial profile with a single item: recommend visually similar items from the same artist\n",
      "Samples: 83334\n"
     ]
    },
    {
     "data": {
      "application/vnd.jupyter.widget-view+json": {
       "model_id": "495846321cbb4b09aa330427982925c2",
       "version_major": 2,
       "version_minor": 0
      },
      "text/plain": [
       "HBox(children=(FloatProgress(value=0.0, description='Check S6', max=83334.0, style=ProgressStyle(description_w…"
      ]
     },
     "metadata": {},
     "output_type": "display_data"
    },
    {
     "name": "stdout",
     "output_type": "stream",
     "text": [
      "\n"
     ]
    }
   ],
   "source": [
    "s6_train = strategy_6(\n",
    "    N_SAMPLES_PER_STRATEGY_TRAIN,\n",
    "    inventory, hashes_container,\n",
    "    id2artist, artist2id,\n",
    ")\n",
    "s6_validation = strategy_6(\n",
    "    N_SAMPLES_PER_STRATEGY_VALID,\n",
    "    inventory, hashes_container,\n",
    "    id2artist, artist2id,\n",
    ")"
   ]
  },
  {
   "cell_type": "code",
   "execution_count": 27,
   "metadata": {},
   "outputs": [
    {
     "name": "stdout",
     "output_type": "stream",
     "text": [
      "Total collisions: 890087\n"
     ]
    }
   ],
   "source": [
    "print(f\"Total collisions: {hashes_container.collisions}\")"
   ]
  },
  {
   "cell_type": "markdown",
   "metadata": {},
   "source": [
    "## Store data\n",
    "\n",
    "Tuples will be scores as artwork indexes in the embedding instead of using the hashes, to improve performance and memory usage."
   ]
  },
  {
   "cell_type": "markdown",
   "metadata": {},
   "source": [
    "### Training data"
   ]
  },
  {
   "cell_type": "code",
   "execution_count": 28,
   "metadata": {},
   "outputs": [
    {
     "name": "stdout",
     "output_type": "stream",
     "text": [
      "There are 10001220 training samples\n"
     ]
    }
   ],
   "source": [
    "# Merge strategies samples\n",
    "TRAINING_DATA = [\n",
    "    s1_train,\n",
    "    s2_train,\n",
    "    s3_train,\n",
    "    s4_train,\n",
    "    s5_train,\n",
    "    s6_train,\n",
    "]\n",
    "# Transform samples from ids to indexes\n",
    "TRAINING_DATA = [\n",
    "    (triple[0], triple[1], triple[2])\n",
    "    for strategy_samples in TRAINING_DATA\n",
    "    for triple in strategy_samples\n",
    "]\n",
    "print(f\"There are {len(TRAINING_DATA)} training samples\")"
   ]
  },
  {
   "cell_type": "code",
   "execution_count": 29,
   "metadata": {},
   "outputs": [
    {
     "name": "stdout",
     "output_type": "stream",
     "text": [
      "No duplicated hashes found\n"
     ]
    }
   ],
   "source": [
    "# Search for duplicated hashes\n",
    "training_hash_check = HashesContainer()\n",
    "for triple in TRAINING_DATA:\n",
    "    assert training_hash_check.enroll(pre_hash(triple))\n",
    "print(\"No duplicated hashes found\")"
   ]
  },
  {
   "cell_type": "code",
   "execution_count": 30,
   "metadata": {},
   "outputs": [
    {
     "name": "stdout",
     "output_type": "stream",
     "text": [
      "Creating training output DataFrame\n"
     ]
    },
    {
     "data": {
      "text/html": [
       "<div>\n",
       "<style scoped>\n",
       "    .dataframe tbody tr th:only-of-type {\n",
       "        vertical-align: middle;\n",
       "    }\n",
       "\n",
       "    .dataframe tbody tr th {\n",
       "        vertical-align: top;\n",
       "    }\n",
       "\n",
       "    .dataframe thead th {\n",
       "        text-align: right;\n",
       "    }\n",
       "</style>\n",
       "<table border=\"1\" class=\"dataframe\">\n",
       "  <thead>\n",
       "    <tr style=\"text-align: right;\">\n",
       "      <th></th>\n",
       "      <th>profile</th>\n",
       "      <th>pi</th>\n",
       "      <th>ni</th>\n",
       "    </tr>\n",
       "  </thead>\n",
       "  <tbody>\n",
       "    <tr>\n",
       "      <th>0</th>\n",
       "      <td>[11034, 11523]</td>\n",
       "      <td>10928</td>\n",
       "      <td>1195</td>\n",
       "    </tr>\n",
       "    <tr>\n",
       "      <th>1</th>\n",
       "      <td>[11034, 10928]</td>\n",
       "      <td>11523</td>\n",
       "      <td>12448</td>\n",
       "    </tr>\n",
       "    <tr>\n",
       "      <th>2</th>\n",
       "      <td>[11523, 10928]</td>\n",
       "      <td>11034</td>\n",
       "      <td>11842</td>\n",
       "    </tr>\n",
       "    <tr>\n",
       "      <th>3</th>\n",
       "      <td>[11523, 10928]</td>\n",
       "      <td>11034</td>\n",
       "      <td>2082</td>\n",
       "    </tr>\n",
       "    <tr>\n",
       "      <th>4</th>\n",
       "      <td>[11034, 10928]</td>\n",
       "      <td>11523</td>\n",
       "      <td>13288</td>\n",
       "    </tr>\n",
       "  </tbody>\n",
       "</table>\n",
       "</div>"
      ],
      "text/plain": [
       "          profile     pi     ni\n",
       "0  [11034, 11523]  10928   1195\n",
       "1  [11034, 10928]  11523  12448\n",
       "2  [11523, 10928]  11034  11842\n",
       "3  [11523, 10928]  11034   2082\n",
       "4  [11034, 10928]  11523  13288"
      ]
     },
     "execution_count": 30,
     "metadata": {},
     "output_type": "execute_result"
    }
   ],
   "source": [
    "# Convert ids to indexes\n",
    "TRAINING_DATA = [\n",
    "    (\n",
    "        [embedding.id2index[i] for i in triple[0]],\n",
    "        embedding.id2index[triple[1]],\n",
    "        embedding.id2index[triple[2]],\n",
    "    )\n",
    "    for triple in TRAINING_DATA\n",
    "]\n",
    "print(\"Creating training output DataFrame\")\n",
    "df_train = pd.DataFrame(TRAINING_DATA, columns=[\"profile\", \"pi\", \"ni\"])\n",
    "df_train.head()"
   ]
  },
  {
   "cell_type": "code",
   "execution_count": 31,
   "metadata": {},
   "outputs": [],
   "source": [
    "if SETTINGS[\"embeddings:public\"]:\n",
    "    output_train = join(\"data\", \"Ugallery\", \"train_public.csv\")\n",
    "else:\n",
    "    output_train = join(\"data\", \"Ugallery\", \"train_private.csv\")\n",
    "df_train.to_csv(output_train, index=False)"
   ]
  },
  {
   "cell_type": "markdown",
   "metadata": {},
   "source": [
    "### Validation data"
   ]
  },
  {
   "cell_type": "code",
   "execution_count": 32,
   "metadata": {},
   "outputs": [
    {
     "name": "stdout",
     "output_type": "stream",
     "text": [
      "There are 502921 validation samples\n"
     ]
    }
   ],
   "source": [
    "# Merge strategies samples\n",
    "VALIDATION_DATA = [\n",
    "    s1_validation,\n",
    "    s2_validation,\n",
    "    s3_validation,\n",
    "    s4_validation,\n",
    "    s5_validation,\n",
    "    s6_validation,\n",
    "]\n",
    "# Transform samples from ids to indexes\n",
    "VALIDATION_DATA = [\n",
    "    (triple[0], triple[1], triple[2])\n",
    "    for strategy_samples in VALIDATION_DATA\n",
    "    for triple in strategy_samples\n",
    "]\n",
    "print(f\"There are {len(VALIDATION_DATA)} validation samples\")"
   ]
  },
  {
   "cell_type": "code",
   "execution_count": 33,
   "metadata": {},
   "outputs": [
    {
     "name": "stdout",
     "output_type": "stream",
     "text": [
      "No duplicated hashes found\n"
     ]
    }
   ],
   "source": [
    "# Search for duplicated hashes\n",
    "validation_hash_check = HashesContainer()\n",
    "for triple in VALIDATION_DATA:\n",
    "    assert validation_hash_check.enroll(pre_hash(triple))\n",
    "\n",
    "print(\"No duplicated hashes found\")"
   ]
  },
  {
   "cell_type": "code",
   "execution_count": 34,
   "metadata": {},
   "outputs": [
    {
     "name": "stdout",
     "output_type": "stream",
     "text": [
      "Creating training output DataFrame\n"
     ]
    },
    {
     "data": {
      "text/html": [
       "<div>\n",
       "<style scoped>\n",
       "    .dataframe tbody tr th:only-of-type {\n",
       "        vertical-align: middle;\n",
       "    }\n",
       "\n",
       "    .dataframe tbody tr th {\n",
       "        vertical-align: top;\n",
       "    }\n",
       "\n",
       "    .dataframe thead th {\n",
       "        text-align: right;\n",
       "    }\n",
       "</style>\n",
       "<table border=\"1\" class=\"dataframe\">\n",
       "  <thead>\n",
       "    <tr style=\"text-align: right;\">\n",
       "      <th></th>\n",
       "      <th>profile</th>\n",
       "      <th>pi</th>\n",
       "      <th>ni</th>\n",
       "    </tr>\n",
       "  </thead>\n",
       "  <tbody>\n",
       "    <tr>\n",
       "      <th>0</th>\n",
       "      <td>[11523, 10928]</td>\n",
       "      <td>11034</td>\n",
       "      <td>3831</td>\n",
       "    </tr>\n",
       "    <tr>\n",
       "      <th>1</th>\n",
       "      <td>[11034, 10928]</td>\n",
       "      <td>11523</td>\n",
       "      <td>7317</td>\n",
       "    </tr>\n",
       "    <tr>\n",
       "      <th>2</th>\n",
       "      <td>[11523, 10928]</td>\n",
       "      <td>11034</td>\n",
       "      <td>9098</td>\n",
       "    </tr>\n",
       "    <tr>\n",
       "      <th>3</th>\n",
       "      <td>[11523, 10928]</td>\n",
       "      <td>11034</td>\n",
       "      <td>1805</td>\n",
       "    </tr>\n",
       "    <tr>\n",
       "      <th>4</th>\n",
       "      <td>[11523, 10928]</td>\n",
       "      <td>11034</td>\n",
       "      <td>9159</td>\n",
       "    </tr>\n",
       "  </tbody>\n",
       "</table>\n",
       "</div>"
      ],
      "text/plain": [
       "          profile     pi    ni\n",
       "0  [11523, 10928]  11034  3831\n",
       "1  [11034, 10928]  11523  7317\n",
       "2  [11523, 10928]  11034  9098\n",
       "3  [11523, 10928]  11034  1805\n",
       "4  [11523, 10928]  11034  9159"
      ]
     },
     "execution_count": 34,
     "metadata": {},
     "output_type": "execute_result"
    }
   ],
   "source": [
    "# Convert ids to indexes\n",
    "VALIDATION_DATA = [\n",
    "    (\n",
    "        [embedding.id2index[i] for i in triple[0]],\n",
    "        embedding.id2index[triple[1]],\n",
    "        embedding.id2index[triple[2]],\n",
    "    )\n",
    "    for triple in VALIDATION_DATA\n",
    "]\n",
    "print(\"Creating training output DataFrame\")\n",
    "df_validation = pd.DataFrame(VALIDATION_DATA, columns=[\"profile\", \"pi\", \"ni\"])\n",
    "df_validation.head()"
   ]
  },
  {
   "cell_type": "code",
   "execution_count": 35,
   "metadata": {},
   "outputs": [],
   "source": [
    "if SETTINGS[\"embeddings:public\"]:\n",
    "    output_validation = join(\"data\", \"Ugallery\", \"validation_public.csv\")\n",
    "else:\n",
    "    output_validation = join(\"data\", \"Ugallery\", \"validation_private.csv\")\n",
    "df_validation.to_csv(output_validation, index=False)"
   ]
  },
  {
   "cell_type": "markdown",
   "metadata": {},
   "source": [
    "### Test data (evaluation)"
   ]
  },
  {
   "cell_type": "code",
   "execution_count": 36,
   "metadata": {},
   "outputs": [
    {
     "name": "stdout",
     "output_type": "stream",
     "text": [
      "There are 1073 evaluation baskets/users\n"
     ]
    }
   ],
   "source": [
    "evaluation_baskets = {\n",
    "    uid: {\n",
    "        \"profile\": [embedding.id2index[i] for i in user.profile],\n",
    "        \"evaluation_basket\": [embedding.id2index[i] for i in user.evaluation_basket],\n",
    "        \"evaluation_timestamp\": user.evaluation_timestamp,\n",
    "    }\n",
    "    for uid, user in inventory.users.items()\n",
    "    if user.evaluation_basket\n",
    "}\n",
    "\n",
    "print(f\"There are {len(evaluation_baskets)} evaluation baskets/users\")"
   ]
  },
  {
   "cell_type": "code",
   "execution_count": 37,
   "metadata": {},
   "outputs": [],
   "source": [
    "if SETTINGS[\"embeddings:public\"]:\n",
    "    output_evaluation = join(\"data\", \"Ugallery\", \"evaluation_public.json\")\n",
    "else:\n",
    "    output_evaluation = join(\"data\", \"Ugallery\", \"evaluation_private.json\")\n",
    "\n",
    "with open(output_evaluation, \"w\") as file:\n",
    "    json.dump(evaluation_baskets, file, indent=4)"
   ]
  }
 ],
 "metadata": {
  "kernelspec": {
   "display_name": "Python 3",
   "language": "python",
   "name": "python3"
  },
  "language_info": {
   "codemirror_mode": {
    "name": "ipython",
    "version": 3
   },
   "file_extension": ".py",
   "mimetype": "text/x-python",
   "name": "python",
   "nbconvert_exporter": "python",
   "pygments_lexer": "ipython3",
   "version": "3.8.1"
  }
 },
 "nbformat": 4,
 "nbformat_minor": 4
}
