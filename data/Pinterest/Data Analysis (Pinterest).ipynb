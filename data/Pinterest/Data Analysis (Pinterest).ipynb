{
 "cells": [
  {
   "cell_type": "markdown",
   "metadata": {},
   "source": [
    "# Pinterest dataset"
   ]
  },
  {
   "cell_type": "code",
   "execution_count": 1,
   "metadata": {},
   "outputs": [
    {
     "name": "stderr",
     "output_type": "stream",
     "text": [
      "Matplotlib created a temporary config/cache directory at /home/aaossa/.cache/matplotlib because the default path (/tmp/matplotlib-b6bov_ky) is not a writable directory; it is highly recommended to set the MPLCONFIGDIR environment variable to a writable directory, in particular to speed up the import of Matplotlib and to better support multiprocessing.\n"
     ]
    }
   ],
   "source": [
    "import matplotlib.pyplot as plt\n",
    "import numpy as np\n",
    "import pandas as pd\n",
    "import seaborn as sns\n",
    "%config InlineBackend.figure_format = 'retina'"
   ]
  },
  {
   "cell_type": "code",
   "execution_count": 2,
   "metadata": {},
   "outputs": [
    {
     "data": {
      "text/html": [
       "<div>\n",
       "<style scoped>\n",
       "    .dataframe tbody tr th:only-of-type {\n",
       "        vertical-align: middle;\n",
       "    }\n",
       "\n",
       "    .dataframe tbody tr th {\n",
       "        vertical-align: top;\n",
       "    }\n",
       "\n",
       "    .dataframe thead th {\n",
       "        text-align: right;\n",
       "    }\n",
       "</style>\n",
       "<table border=\"1\" class=\"dataframe\">\n",
       "  <thead>\n",
       "    <tr style=\"text-align: right;\">\n",
       "      <th></th>\n",
       "      <th>board_id</th>\n",
       "      <th>im_name</th>\n",
       "      <th>timestamp</th>\n",
       "    </tr>\n",
       "  </thead>\n",
       "  <tbody>\n",
       "    <tr>\n",
       "      <th>0</th>\n",
       "      <td>119134421331766936</td>\n",
       "      <td>58dcc5617e646ccd77205b4de9e01510</td>\n",
       "      <td>1447729447</td>\n",
       "    </tr>\n",
       "    <tr>\n",
       "      <th>1</th>\n",
       "      <td>119134421331766936</td>\n",
       "      <td>0aa168f8b273fab6f840713aeb2972eb</td>\n",
       "      <td>1447729447</td>\n",
       "    </tr>\n",
       "    <tr>\n",
       "      <th>2</th>\n",
       "      <td>119134421331766936</td>\n",
       "      <td>94cd90fd42a27abdd71b07dedd90aa9a</td>\n",
       "      <td>1447729447</td>\n",
       "    </tr>\n",
       "    <tr>\n",
       "      <th>3</th>\n",
       "      <td>119134421331766936</td>\n",
       "      <td>682b2df3f7e6ee4885c1a12b59a81dfa</td>\n",
       "      <td>1447729447</td>\n",
       "    </tr>\n",
       "    <tr>\n",
       "      <th>4</th>\n",
       "      <td>119134421331766936</td>\n",
       "      <td>5619b90d25f0adbec03ff9e201bf3d6a</td>\n",
       "      <td>1447729447</td>\n",
       "    </tr>\n",
       "  </tbody>\n",
       "</table>\n",
       "</div>"
      ],
      "text/plain": [
       "             board_id                           im_name   timestamp\n",
       "0  119134421331766936  58dcc5617e646ccd77205b4de9e01510  1447729447\n",
       "1  119134421331766936  0aa168f8b273fab6f840713aeb2972eb  1447729447\n",
       "2  119134421331766936  94cd90fd42a27abdd71b07dedd90aa9a  1447729447\n",
       "3  119134421331766936  682b2df3f7e6ee4885c1a12b59a81dfa  1447729447\n",
       "4  119134421331766936  5619b90d25f0adbec03ff9e201bf3d6a  1447729447"
      ]
     },
     "execution_count": 2,
     "metadata": {},
     "output_type": "execute_result"
    }
   ],
   "source": [
    "data = pd.read_csv(\"data.csv\")\n",
    "data.head()"
   ]
  },
  {
   "cell_type": "markdown",
   "metadata": {},
   "source": [
    "## Interactions data"
   ]
  },
  {
   "cell_type": "code",
   "execution_count": 3,
   "metadata": {},
   "outputs": [
    {
     "name": "stdout",
     "output_type": "stream",
     "text": [
      "Interactions shape (2533806, 3)\n"
     ]
    }
   ],
   "source": [
    "print(\"Interactions shape\", data.shape)"
   ]
  },
  {
   "cell_type": "markdown",
   "metadata": {},
   "source": [
    "There are 2533806 rows in the data file."
   ]
  },
  {
   "cell_type": "code",
   "execution_count": 4,
   "metadata": {},
   "outputs": [
    {
     "name": "stdout",
     "output_type": "stream",
     "text": [
      "<class 'pandas.core.frame.DataFrame'>\n",
      "RangeIndex: 2533806 entries, 0 to 2533805\n",
      "Data columns (total 3 columns):\n",
      " #   Column     Dtype \n",
      "---  ------     ----- \n",
      " 0   board_id   int64 \n",
      " 1   im_name    object\n",
      " 2   timestamp  int64 \n",
      "dtypes: int64(2), object(1)\n",
      "memory usage: 58.0+ MB\n"
     ]
    }
   ],
   "source": [
    "data.info()"
   ]
  },
  {
   "cell_type": "code",
   "execution_count": 5,
   "metadata": {},
   "outputs": [
    {
     "data": {
      "text/plain": [
       "board_id     0\n",
       "im_name      0\n",
       "timestamp    0\n",
       "dtype: int64"
      ]
     },
     "execution_count": 5,
     "metadata": {},
     "output_type": "execute_result"
    }
   ],
   "source": [
    "data.isna().sum()"
   ]
  },
  {
   "cell_type": "markdown",
   "metadata": {},
   "source": [
    "No missing values in this dataframe."
   ]
  },
  {
   "cell_type": "code",
   "execution_count": 6,
   "metadata": {},
   "outputs": [
    {
     "data": {
      "text/html": [
       "<div>\n",
       "<style scoped>\n",
       "    .dataframe tbody tr th:only-of-type {\n",
       "        vertical-align: middle;\n",
       "    }\n",
       "\n",
       "    .dataframe tbody tr th {\n",
       "        vertical-align: top;\n",
       "    }\n",
       "\n",
       "    .dataframe thead th {\n",
       "        text-align: right;\n",
       "    }\n",
       "</style>\n",
       "<table border=\"1\" class=\"dataframe\">\n",
       "  <thead>\n",
       "    <tr style=\"text-align: right;\">\n",
       "      <th></th>\n",
       "      <th>board_id</th>\n",
       "      <th>im_name</th>\n",
       "      <th>timestamp</th>\n",
       "    </tr>\n",
       "  </thead>\n",
       "  <tbody>\n",
       "    <tr>\n",
       "      <th>0</th>\n",
       "      <td>119134421331766936</td>\n",
       "      <td>58dcc5617e646ccd77205b4de9e01510</td>\n",
       "      <td>1447729447</td>\n",
       "    </tr>\n",
       "    <tr>\n",
       "      <th>1</th>\n",
       "      <td>119134421331766936</td>\n",
       "      <td>0aa168f8b273fab6f840713aeb2972eb</td>\n",
       "      <td>1447729447</td>\n",
       "    </tr>\n",
       "    <tr>\n",
       "      <th>2</th>\n",
       "      <td>119134421331766936</td>\n",
       "      <td>94cd90fd42a27abdd71b07dedd90aa9a</td>\n",
       "      <td>1447729447</td>\n",
       "    </tr>\n",
       "    <tr>\n",
       "      <th>3</th>\n",
       "      <td>119134421331766936</td>\n",
       "      <td>682b2df3f7e6ee4885c1a12b59a81dfa</td>\n",
       "      <td>1447729447</td>\n",
       "    </tr>\n",
       "    <tr>\n",
       "      <th>4</th>\n",
       "      <td>119134421331766936</td>\n",
       "      <td>5619b90d25f0adbec03ff9e201bf3d6a</td>\n",
       "      <td>1447729447</td>\n",
       "    </tr>\n",
       "  </tbody>\n",
       "</table>\n",
       "</div>"
      ],
      "text/plain": [
       "             board_id                           im_name   timestamp\n",
       "0  119134421331766936  58dcc5617e646ccd77205b4de9e01510  1447729447\n",
       "1  119134421331766936  0aa168f8b273fab6f840713aeb2972eb  1447729447\n",
       "2  119134421331766936  94cd90fd42a27abdd71b07dedd90aa9a  1447729447\n",
       "3  119134421331766936  682b2df3f7e6ee4885c1a12b59a81dfa  1447729447\n",
       "4  119134421331766936  5619b90d25f0adbec03ff9e201bf3d6a  1447729447"
      ]
     },
     "execution_count": 6,
     "metadata": {},
     "output_type": "execute_result"
    }
   ],
   "source": [
    "data.head()"
   ]
  },
  {
   "cell_type": "code",
   "execution_count": 7,
   "metadata": {},
   "outputs": [
    {
     "data": {
      "text/html": [
       "<div>\n",
       "<style scoped>\n",
       "    .dataframe tbody tr th:only-of-type {\n",
       "        vertical-align: middle;\n",
       "    }\n",
       "\n",
       "    .dataframe tbody tr th {\n",
       "        vertical-align: top;\n",
       "    }\n",
       "\n",
       "    .dataframe thead th {\n",
       "        text-align: right;\n",
       "    }\n",
       "</style>\n",
       "<table border=\"1\" class=\"dataframe\">\n",
       "  <thead>\n",
       "    <tr style=\"text-align: right;\">\n",
       "      <th></th>\n",
       "      <th>board_id</th>\n",
       "      <th>timestamp</th>\n",
       "    </tr>\n",
       "  </thead>\n",
       "  <tbody>\n",
       "    <tr>\n",
       "      <th>count</th>\n",
       "      <td>2.533806e+06</td>\n",
       "      <td>2.533806e+06</td>\n",
       "    </tr>\n",
       "    <tr>\n",
       "      <th>mean</th>\n",
       "      <td>3.056261e+17</td>\n",
       "      <td>1.447861e+09</td>\n",
       "    </tr>\n",
       "    <tr>\n",
       "      <th>std</th>\n",
       "      <td>1.685477e+17</td>\n",
       "      <td>8.072419e+04</td>\n",
       "    </tr>\n",
       "    <tr>\n",
       "      <th>min</th>\n",
       "      <td>1.374390e+11</td>\n",
       "      <td>1.447729e+09</td>\n",
       "    </tr>\n",
       "    <tr>\n",
       "      <th>25%</th>\n",
       "      <td>1.619186e+17</td>\n",
       "      <td>1.447834e+09</td>\n",
       "    </tr>\n",
       "    <tr>\n",
       "      <th>50%</th>\n",
       "      <td>3.316480e+17</td>\n",
       "      <td>1.447861e+09</td>\n",
       "    </tr>\n",
       "    <tr>\n",
       "      <th>75%</th>\n",
       "      <td>4.412825e+17</td>\n",
       "      <td>1.447869e+09</td>\n",
       "    </tr>\n",
       "    <tr>\n",
       "      <th>max</th>\n",
       "      <td>5.763905e+17</td>\n",
       "      <td>1.448114e+09</td>\n",
       "    </tr>\n",
       "  </tbody>\n",
       "</table>\n",
       "</div>"
      ],
      "text/plain": [
       "           board_id     timestamp\n",
       "count  2.533806e+06  2.533806e+06\n",
       "mean   3.056261e+17  1.447861e+09\n",
       "std    1.685477e+17  8.072419e+04\n",
       "min    1.374390e+11  1.447729e+09\n",
       "25%    1.619186e+17  1.447834e+09\n",
       "50%    3.316480e+17  1.447861e+09\n",
       "75%    4.412825e+17  1.447869e+09\n",
       "max    5.763905e+17  1.448114e+09"
      ]
     },
     "execution_count": 7,
     "metadata": {},
     "output_type": "execute_result"
    }
   ],
   "source": [
    "data.describe()"
   ]
  },
  {
   "cell_type": "markdown",
   "metadata": {},
   "source": [
    "**How many users and items?**"
   ]
  },
  {
   "cell_type": "code",
   "execution_count": 8,
   "metadata": {},
   "outputs": [
    {
     "name": "stdout",
     "output_type": "stream",
     "text": [
      "Users: 46000\n",
      "Items: 882589\n"
     ]
    }
   ],
   "source": [
    "print(\"Users:\", data[\"board_id\"].nunique())\n",
    "print(\"Items:\", data[\"im_name\"].nunique())"
   ]
  },
  {
   "cell_type": "markdown",
   "metadata": {},
   "source": [
    "**Number of interactions per item?**"
   ]
  },
  {
   "cell_type": "code",
   "execution_count": 9,
   "metadata": {},
   "outputs": [
    {
     "data": {
      "text/plain": [
       "count    882589.000000\n",
       "mean          2.870879\n",
       "std           3.868655\n",
       "min           1.000000\n",
       "25%           1.000000\n",
       "50%           2.000000\n",
       "75%           3.000000\n",
       "max         177.000000\n",
       "Name: board_id, dtype: float64"
      ]
     },
     "execution_count": 9,
     "metadata": {},
     "output_type": "execute_result"
    }
   ],
   "source": [
    "items = data.groupby([\"im_name\"]).count()[\"board_id\"]\n",
    "items.describe()"
   ]
  },
  {
   "cell_type": "markdown",
   "metadata": {},
   "source": [
    "**Most active items?**"
   ]
  },
  {
   "cell_type": "code",
   "execution_count": 10,
   "metadata": {},
   "outputs": [
    {
     "data": {
      "text/plain": [
       "im_name\n",
       "e2f366ef70185c50be8df2e1ccd3fc56    177\n",
       "f43c6933e5ee2e8f6e6037dce1b6dea2    135\n",
       "67b78675b0f59e68b6a4879d0139da61    125\n",
       "2c6b6a4957770aef2f7afe57f175f601    116\n",
       "44305a011ac33e88ed616df7d4aad066    114\n",
       "Name: board_id, dtype: int64"
      ]
     },
     "execution_count": 10,
     "metadata": {},
     "output_type": "execute_result"
    }
   ],
   "source": [
    "most_active_items = items.sort_values(ascending=False)\n",
    "most_active_items.head()"
   ]
  },
  {
   "cell_type": "code",
   "execution_count": 11,
   "metadata": {},
   "outputs": [
    {
     "name": "stdout",
     "output_type": "stream",
     "text": [
      "39.03 % of interactions comes from the top 88259 most active items\n"
     ]
    }
   ],
   "source": [
    "N = 88259  # 10%\n",
    "interactions_by_active_items = most_active_items[:N].sum() / items.sum() * 100\n",
    "print(f\"{interactions_by_active_items:.2f} % of interactions comes from the top {N} most active items\")"
   ]
  },
  {
   "cell_type": "code",
   "execution_count": 12,
   "metadata": {},
   "outputs": [
    {
     "data": {
      "image/png": "[encoded data removed]",
      "text/plain": [
       "<Figure size 432x288 with 1 Axes>"
      ]
     },
     "metadata": {
      "image/png": {
       "height": 248,
       "width": 394
      },
      "needs_background": "light"
     },
     "output_type": "display_data"
    }
   ],
   "source": [
    "sorted_data = np.sort(most_active_items)\n",
    "plt.step(sorted_data, np.arange(sorted_data.size))\n",
    "plt.show()"
   ]
  },
  {
   "cell_type": "code",
   "execution_count": 13,
   "metadata": {},
   "outputs": [
    {
     "data": {
      "image/png": "[encoded data removed]",
      "text/plain": [
       "<Figure size 432x288 with 1 Axes>"
      ]
     },
     "metadata": {
      "image/png": {
       "height": 311,
       "width": 408
      },
      "needs_background": "light"
     },
     "output_type": "display_data"
    }
   ],
   "source": [
    "bins = list(range(1, 10)) + [items.max()]\n",
    "\n",
    "hist, bins = np.histogram(items, bins)\n",
    "x_axis = np.arange(0, len(hist))\n",
    "plt.bar(x_axis, hist)\n",
    "bin_names = [f\"[{bins[i]} - {bins[i+1]})\" for i in range(len(hist))]\n",
    "plt.xticks(x_axis, bin_names, rotation=90)\n",
    "\n",
    "# Title and labels\n",
    "plt.title(\"Interactions per item\")\n",
    "plt.xlabel(\"# interactions\")\n",
    "plt.ylabel(\"# items\")\n",
    "plt.show()"
   ]
  },
  {
   "cell_type": "markdown",
   "metadata": {},
   "source": [
    "**Number of interactions per user?**"
   ]
  },
  {
   "cell_type": "code",
   "execution_count": 14,
   "metadata": {},
   "outputs": [
    {
     "data": {
      "text/plain": [
       "count    46000.000000\n",
       "mean        55.082739\n",
       "std         34.823345\n",
       "min          9.000000\n",
       "25%         27.000000\n",
       "50%         45.000000\n",
       "75%         76.000000\n",
       "max        681.000000\n",
       "Name: im_name, dtype: float64"
      ]
     },
     "execution_count": 14,
     "metadata": {},
     "output_type": "execute_result"
    }
   ],
   "source": [
    "users = data.groupby([\"board_id\"]).count()[\"im_name\"]\n",
    "users.describe()"
   ]
  },
  {
   "cell_type": "markdown",
   "metadata": {},
   "source": [
    "**Most active users?**"
   ]
  },
  {
   "cell_type": "code",
   "execution_count": 15,
   "metadata": {},
   "outputs": [
    {
     "data": {
      "text/plain": [
       "board_id\n",
       "1407512322512278    681\n",
       "1196406089989089    501\n",
       "703824880761337     399\n",
       "1407512322571860    385\n",
       "1477881066765384    372\n",
       "Name: im_name, dtype: int64"
      ]
     },
     "execution_count": 15,
     "metadata": {},
     "output_type": "execute_result"
    }
   ],
   "source": [
    "most_active_users = users.sort_values(ascending=False)\n",
    "most_active_users.head()"
   ]
  },
  {
   "cell_type": "code",
   "execution_count": 16,
   "metadata": {},
   "outputs": [
    {
     "name": "stdout",
     "output_type": "stream",
     "text": [
      "23.36 % of interactions comes from the top 4600 most active users\n"
     ]
    }
   ],
   "source": [
    "N = 4600  # 10%\n",
    "interactions_by_active_users = most_active_users[:N].sum() / users.sum() * 100\n",
    "print(f\"{interactions_by_active_users:.2f} % of interactions comes from the top {N} most active users\")"
   ]
  },
  {
   "cell_type": "code",
   "execution_count": 17,
   "metadata": {},
   "outputs": [
    {
     "data": {
      "image/png": "[encoded data removed]",
      "text/plain": [
       "<Figure size 432x288 with 1 Axes>"
      ]
     },
     "metadata": {
      "image/png": {
       "height": 248,
       "width": 391
      },
      "needs_background": "light"
     },
     "output_type": "display_data"
    }
   ],
   "source": [
    "sorted_data = np.sort(most_active_users)\n",
    "plt.step(sorted_data, np.arange(sorted_data.size))\n",
    "plt.show()"
   ]
  },
  {
   "cell_type": "code",
   "execution_count": 18,
   "metadata": {},
   "outputs": [
    {
     "data": {
      "image/png": "[encoded data removed]",
      "text/plain": [
       "<Figure size 432x288 with 1 Axes>"
      ]
     },
     "metadata": {
      "image/png": {
       "height": 324,
       "width": 395
      },
      "needs_background": "light"
     },
     "output_type": "display_data"
    }
   ],
   "source": [
    "bins = (\n",
    "    [10*i for i in range(1, 20)]\n",
    "    + [users.max()]\n",
    ")\n",
    "\n",
    "hist, bins = np.histogram(users, bins)\n",
    "x_axis = np.arange(0, len(hist))\n",
    "plt.bar(x_axis, hist)\n",
    "bin_names = [f\"[{bins[i]} - {bins[i+1]})\" for i in range(len(hist))]\n",
    "plt.xticks(x_axis, bin_names, rotation=90)\n",
    "\n",
    "# Title and labels\n",
    "plt.title(\"Interactions per user\")\n",
    "plt.xlabel(\"# interactions\")\n",
    "plt.ylabel(\"# users\")\n",
    "plt.show()"
   ]
  },
  {
   "cell_type": "markdown",
   "metadata": {},
   "source": [
    "## Output"
   ]
  },
  {
   "cell_type": "code",
   "execution_count": 19,
   "metadata": {},
   "outputs": [
    {
     "name": "stdout",
     "output_type": "stream",
     "text": [
      "Unique users: 46000\n",
      "Unique items: 882017\n",
      "Unique items 'interacted': 882589\n",
      "Interactions per user: 55.08273913043478 +/- 34.823345417873256\n",
      "Interactions per item: 2.872740548084674 +/- 3.8686536084717664\n",
      "Interactions per purchased item: 2.8708787442399575 +/- 3.868655352124064\n",
      "Possible interactions: 40572782000\n",
      "Sparsity: 0.006245%\n"
     ]
    }
   ],
   "source": [
    "n_users = data[\"board_id\"].nunique()\n",
    "n_items = data[\"im_name\"].nunique()\n",
    "n_items_gt = 882017\n",
    "print(f\"Unique users: {n_users}\")\n",
    "print(f\"Unique items: {n_items_gt}\")\n",
    "print(f\"Unique items 'interacted': {n_items}\")\n",
    "print(f\"Interactions per user: {users.mean()} +/- {users.std()}\")\n",
    "actual_mean = items.sum() / n_items_gt\n",
    "actual_std = np.sqrt(np.mean(np.abs(items - actual_mean)**2))\n",
    "print(f\"Interactions per item: {actual_mean} +/- {actual_std}\") \n",
    "print(f\"Interactions per purchased item: {items.mean()} +/- {items.std()}\")\n",
    "possible_interactions = n_users * n_items_gt\n",
    "print(f\"Possible interactions: {possible_interactions}\")\n",
    "print(f\"Sparsity: {100 * len(data) / possible_interactions:2f}%\")"
   ]
  },
  {
   "cell_type": "code",
   "execution_count": 20,
   "metadata": {},
   "outputs": [],
   "source": [
    "data = data.rename(columns={\n",
    "    \"board_id\": \"user_id\",\n",
    "    \"im_name\": \"item_id\",\n",
    "})\n",
    "data[\"artist_id\"] = -1\n",
    "data = data[[\"user_id\", \"item_id\", \"artist_id\", \"timestamp\"]]\n",
    "data = data.sort_values(\"timestamp\")\n",
    "data = data.reset_index(drop=True)"
   ]
  },
  {
   "cell_type": "code",
   "execution_count": 21,
   "metadata": {},
   "outputs": [],
   "source": [
    "data.to_csv(\"pinterest.csv\", index=False)"
   ]
  },
  {
   "cell_type": "code",
   "execution_count": 22,
   "metadata": {},
   "outputs": [
    {
     "data": {
      "text/html": [
       "<div>\n",
       "<style scoped>\n",
       "    .dataframe tbody tr th:only-of-type {\n",
       "        vertical-align: middle;\n",
       "    }\n",
       "\n",
       "    .dataframe tbody tr th {\n",
       "        vertical-align: top;\n",
       "    }\n",
       "\n",
       "    .dataframe thead th {\n",
       "        text-align: right;\n",
       "    }\n",
       "</style>\n",
       "<table border=\"1\" class=\"dataframe\">\n",
       "  <thead>\n",
       "    <tr style=\"text-align: right;\">\n",
       "      <th></th>\n",
       "      <th>user_id</th>\n",
       "      <th>item_id</th>\n",
       "      <th>artist_id</th>\n",
       "      <th>timestamp</th>\n",
       "    </tr>\n",
       "  </thead>\n",
       "  <tbody>\n",
       "    <tr>\n",
       "      <th>0</th>\n",
       "      <td>119134421331766936</td>\n",
       "      <td>58dcc5617e646ccd77205b4de9e01510</td>\n",
       "      <td>-1</td>\n",
       "      <td>1447729447</td>\n",
       "    </tr>\n",
       "    <tr>\n",
       "      <th>1</th>\n",
       "      <td>119134421331766936</td>\n",
       "      <td>3b4452fd784e93d337b74bdd36ff90bc</td>\n",
       "      <td>-1</td>\n",
       "      <td>1447729447</td>\n",
       "    </tr>\n",
       "    <tr>\n",
       "      <th>2</th>\n",
       "      <td>119134421331766936</td>\n",
       "      <td>8b3556819ee8e8d1adc3b1e0d417e24e</td>\n",
       "      <td>-1</td>\n",
       "      <td>1447729447</td>\n",
       "    </tr>\n",
       "    <tr>\n",
       "      <th>3</th>\n",
       "      <td>119134421331766936</td>\n",
       "      <td>a5dcb3a6e69a433a95917b874c61f977</td>\n",
       "      <td>-1</td>\n",
       "      <td>1447729447</td>\n",
       "    </tr>\n",
       "    <tr>\n",
       "      <th>4</th>\n",
       "      <td>119134421331766936</td>\n",
       "      <td>6b50d516cfafe9f1a9c28f676889dfe2</td>\n",
       "      <td>-1</td>\n",
       "      <td>1447729447</td>\n",
       "    </tr>\n",
       "    <tr>\n",
       "      <th>...</th>\n",
       "      <td>...</td>\n",
       "      <td>...</td>\n",
       "      <td>...</td>\n",
       "      <td>...</td>\n",
       "    </tr>\n",
       "    <tr>\n",
       "      <th>2533801</th>\n",
       "      <td>99994122915443980</td>\n",
       "      <td>e4c24b995f3c6d208ded88087705fc85</td>\n",
       "      <td>-1</td>\n",
       "      <td>1448114163</td>\n",
       "    </tr>\n",
       "    <tr>\n",
       "      <th>2533802</th>\n",
       "      <td>99994122915443980</td>\n",
       "      <td>432fecf9753fecfe252cf28d0856a161</td>\n",
       "      <td>-1</td>\n",
       "      <td>1448114163</td>\n",
       "    </tr>\n",
       "    <tr>\n",
       "      <th>2533803</th>\n",
       "      <td>99994122915443980</td>\n",
       "      <td>a03ae9e52454d43d7e621774bc2b9e18</td>\n",
       "      <td>-1</td>\n",
       "      <td>1448114163</td>\n",
       "    </tr>\n",
       "    <tr>\n",
       "      <th>2533804</th>\n",
       "      <td>99994122915443980</td>\n",
       "      <td>6d0b85f6c90be57fb1cc8938a7ac3b28</td>\n",
       "      <td>-1</td>\n",
       "      <td>1448114163</td>\n",
       "    </tr>\n",
       "    <tr>\n",
       "      <th>2533805</th>\n",
       "      <td>99994122915443980</td>\n",
       "      <td>8e3e5ae353a2e8dc8c61c295ddc68b46</td>\n",
       "      <td>-1</td>\n",
       "      <td>1448114163</td>\n",
       "    </tr>\n",
       "  </tbody>\n",
       "</table>\n",
       "<p>2533806 rows × 4 columns</p>\n",
       "</div>"
      ],
      "text/plain": [
       "                    user_id                           item_id  artist_id  \\\n",
       "0        119134421331766936  58dcc5617e646ccd77205b4de9e01510         -1   \n",
       "1        119134421331766936  3b4452fd784e93d337b74bdd36ff90bc         -1   \n",
       "2        119134421331766936  8b3556819ee8e8d1adc3b1e0d417e24e         -1   \n",
       "3        119134421331766936  a5dcb3a6e69a433a95917b874c61f977         -1   \n",
       "4        119134421331766936  6b50d516cfafe9f1a9c28f676889dfe2         -1   \n",
       "...                     ...                               ...        ...   \n",
       "2533801   99994122915443980  e4c24b995f3c6d208ded88087705fc85         -1   \n",
       "2533802   99994122915443980  432fecf9753fecfe252cf28d0856a161         -1   \n",
       "2533803   99994122915443980  a03ae9e52454d43d7e621774bc2b9e18         -1   \n",
       "2533804   99994122915443980  6d0b85f6c90be57fb1cc8938a7ac3b28         -1   \n",
       "2533805   99994122915443980  8e3e5ae353a2e8dc8c61c295ddc68b46         -1   \n",
       "\n",
       "          timestamp  \n",
       "0        1447729447  \n",
       "1        1447729447  \n",
       "2        1447729447  \n",
       "3        1447729447  \n",
       "4        1447729447  \n",
       "...             ...  \n",
       "2533801  1448114163  \n",
       "2533802  1448114163  \n",
       "2533803  1448114163  \n",
       "2533804  1448114163  \n",
       "2533805  1448114163  \n",
       "\n",
       "[2533806 rows x 4 columns]"
      ]
     },
     "execution_count": 22,
     "metadata": {},
     "output_type": "execute_result"
    }
   ],
   "source": [
    "data"
   ]
  }
 ],
 "metadata": {
  "kernelspec": {
   "display_name": "3.8.5",
   "language": "python",
   "name": "3.8.5"
  },
  "language_info": {
   "codemirror_mode": {
    "name": "ipython",
    "version": 3
   },
   "file_extension": ".py",
   "mimetype": "text/x-python",
   "name": "python",
   "nbconvert_exporter": "python",
   "pygments_lexer": "ipython3",
   "version": "3.8.5"
  }
 },
 "nbformat": 4,
 "nbformat_minor": 4
}
