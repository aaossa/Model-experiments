{
 "cells": [
  {
   "cell_type": "markdown",
   "metadata": {},
   "source": [
    "# Wikimedia dataset"
   ]
  },
  {
   "cell_type": "code",
   "execution_count": 1,
   "metadata": {},
   "outputs": [
    {
     "name": "stderr",
     "output_type": "stream",
     "text": [
      "Matplotlib created a temporary config/cache directory at /home/aaossa/.cache/matplotlib because the default path (/tmp/matplotlib-y4h5unb5) is not a writable directory; it is highly recommended to set the MPLCONFIGDIR environment variable to a writable directory, in particular to speed up the import of Matplotlib and to better support multiprocessing.\n"
     ]
    }
   ],
   "source": [
    "import matplotlib.pyplot as plt\n",
    "import numpy as np\n",
    "import pandas as pd\n",
    "import seaborn as sns\n",
    "%config InlineBackend.figure_format = 'retina'"
   ]
  },
  {
   "cell_type": "code",
   "execution_count": 2,
   "metadata": {},
   "outputs": [
    {
     "data": {
      "text/html": [
       "<div>\n",
       "<style scoped>\n",
       "    .dataframe tbody tr th:only-of-type {\n",
       "        vertical-align: middle;\n",
       "    }\n",
       "\n",
       "    .dataframe tbody tr th {\n",
       "        vertical-align: top;\n",
       "    }\n",
       "\n",
       "    .dataframe thead th {\n",
       "        text-align: right;\n",
       "    }\n",
       "</style>\n",
       "<table border=\"1\" class=\"dataframe\">\n",
       "  <thead>\n",
       "    <tr style=\"text-align: right;\">\n",
       "      <th></th>\n",
       "      <th>score</th>\n",
       "      <th>image_id</th>\n",
       "      <th>user</th>\n",
       "      <th>timestamp</th>\n",
       "    </tr>\n",
       "  </thead>\n",
       "  <tbody>\n",
       "    <tr>\n",
       "      <th>0</th>\n",
       "      <td>1</td>\n",
       "      <td>200411001</td>\n",
       "      <td>1</td>\n",
       "      <td>1100202420</td>\n",
       "    </tr>\n",
       "    <tr>\n",
       "      <th>1</th>\n",
       "      <td>1</td>\n",
       "      <td>200411001</td>\n",
       "      <td>2</td>\n",
       "      <td>1100216280</td>\n",
       "    </tr>\n",
       "    <tr>\n",
       "      <th>2</th>\n",
       "      <td>1</td>\n",
       "      <td>200411001</td>\n",
       "      <td>3</td>\n",
       "      <td>1100220060</td>\n",
       "    </tr>\n",
       "    <tr>\n",
       "      <th>3</th>\n",
       "      <td>-1</td>\n",
       "      <td>200411001</td>\n",
       "      <td>4</td>\n",
       "      <td>1100275680</td>\n",
       "    </tr>\n",
       "    <tr>\n",
       "      <th>4</th>\n",
       "      <td>-1</td>\n",
       "      <td>200411001</td>\n",
       "      <td>5</td>\n",
       "      <td>1100685060</td>\n",
       "    </tr>\n",
       "  </tbody>\n",
       "</table>\n",
       "</div>"
      ],
      "text/plain": [
       "   score   image_id  user   timestamp\n",
       "0      1  200411001     1  1100202420\n",
       "1      1  200411001     2  1100216280\n",
       "2      1  200411001     3  1100220060\n",
       "3     -1  200411001     4  1100275680\n",
       "4     -1  200411001     5  1100685060"
      ]
     },
     "execution_count": 2,
     "metadata": {},
     "output_type": "execute_result"
    }
   ],
   "source": [
    "data = pd.read_csv(\"data.csv\")\n",
    "data.head()"
   ]
  },
  {
   "cell_type": "markdown",
   "metadata": {},
   "source": [
    "## Interactions data"
   ]
  },
  {
   "cell_type": "code",
   "execution_count": 3,
   "metadata": {},
   "outputs": [
    {
     "name": "stdout",
     "output_type": "stream",
     "text": [
      "Interactions shape (199095, 4)\n"
     ]
    }
   ],
   "source": [
    "print(\"Interactions shape\", data.shape)"
   ]
  },
  {
   "cell_type": "markdown",
   "metadata": {},
   "source": [
    "There are 1999095 rows in the data file, but only possitive feedback will be considered. But first, some user-item interactions are repeated, and we'll consider only the last one"
   ]
  },
  {
   "cell_type": "code",
   "execution_count": 4,
   "metadata": {},
   "outputs": [],
   "source": [
    "# Sort by timestamp\n",
    "data = data.sort_values(by=\"timestamp\", ascending=True)"
   ]
  },
  {
   "cell_type": "code",
   "execution_count": 5,
   "metadata": {},
   "outputs": [],
   "source": [
    "# Keep latest interaction between user-item pairs\n",
    "data = data.groupby([\"user\", \"image_id\"]).tail(1).reset_index(drop=True)"
   ]
  },
  {
   "cell_type": "code",
   "execution_count": 6,
   "metadata": {},
   "outputs": [],
   "source": [
    "# Keep positive feedback interactions only\n",
    "data = data[data[\"score\"] > 0]"
   ]
  },
  {
   "cell_type": "code",
   "execution_count": 7,
   "metadata": {},
   "outputs": [
    {
     "name": "stdout",
     "output_type": "stream",
     "text": [
      "Interactions shape (124844, 4)\n"
     ]
    }
   ],
   "source": [
    "print(\"Interactions shape\", data.shape)"
   ]
  },
  {
   "cell_type": "code",
   "execution_count": 8,
   "metadata": {},
   "outputs": [
    {
     "name": "stdout",
     "output_type": "stream",
     "text": [
      "<class 'pandas.core.frame.DataFrame'>\n",
      "Int64Index: 124844 entries, 2 to 186626\n",
      "Data columns (total 4 columns):\n",
      " #   Column     Non-Null Count   Dtype\n",
      "---  ------     --------------   -----\n",
      " 0   score      124844 non-null  int64\n",
      " 1   image_id   124844 non-null  int64\n",
      " 2   user       124844 non-null  int64\n",
      " 3   timestamp  124844 non-null  int64\n",
      "dtypes: int64(4)\n",
      "memory usage: 4.8 MB\n"
     ]
    }
   ],
   "source": [
    "data.info()"
   ]
  },
  {
   "cell_type": "markdown",
   "metadata": {},
   "source": [
    "No missing values in this dataframe. `timestamp` is already a timestamp, so everything is OK here."
   ]
  },
  {
   "cell_type": "code",
   "execution_count": 9,
   "metadata": {},
   "outputs": [
    {
     "data": {
      "text/html": [
       "<div>\n",
       "<style scoped>\n",
       "    .dataframe tbody tr th:only-of-type {\n",
       "        vertical-align: middle;\n",
       "    }\n",
       "\n",
       "    .dataframe tbody tr th {\n",
       "        vertical-align: top;\n",
       "    }\n",
       "\n",
       "    .dataframe thead th {\n",
       "        text-align: right;\n",
       "    }\n",
       "</style>\n",
       "<table border=\"1\" class=\"dataframe\">\n",
       "  <thead>\n",
       "    <tr style=\"text-align: right;\">\n",
       "      <th></th>\n",
       "      <th>score</th>\n",
       "      <th>image_id</th>\n",
       "      <th>user</th>\n",
       "      <th>timestamp</th>\n",
       "    </tr>\n",
       "  </thead>\n",
       "  <tbody>\n",
       "    <tr>\n",
       "      <th>2</th>\n",
       "      <td>1</td>\n",
       "      <td>200411001</td>\n",
       "      <td>1</td>\n",
       "      <td>1100202420</td>\n",
       "    </tr>\n",
       "    <tr>\n",
       "      <th>3</th>\n",
       "      <td>1</td>\n",
       "      <td>200411002</td>\n",
       "      <td>1</td>\n",
       "      <td>1100202420</td>\n",
       "    </tr>\n",
       "    <tr>\n",
       "      <th>4</th>\n",
       "      <td>1</td>\n",
       "      <td>200411002</td>\n",
       "      <td>2</td>\n",
       "      <td>1100216220</td>\n",
       "    </tr>\n",
       "    <tr>\n",
       "      <th>5</th>\n",
       "      <td>1</td>\n",
       "      <td>200411001</td>\n",
       "      <td>2</td>\n",
       "      <td>1100216280</td>\n",
       "    </tr>\n",
       "    <tr>\n",
       "      <th>6</th>\n",
       "      <td>1</td>\n",
       "      <td>200411001</td>\n",
       "      <td>3</td>\n",
       "      <td>1100220060</td>\n",
       "    </tr>\n",
       "  </tbody>\n",
       "</table>\n",
       "</div>"
      ],
      "text/plain": [
       "   score   image_id  user   timestamp\n",
       "2      1  200411001     1  1100202420\n",
       "3      1  200411002     1  1100202420\n",
       "4      1  200411002     2  1100216220\n",
       "5      1  200411001     2  1100216280\n",
       "6      1  200411001     3  1100220060"
      ]
     },
     "execution_count": 9,
     "metadata": {},
     "output_type": "execute_result"
    }
   ],
   "source": [
    "data.head()"
   ]
  },
  {
   "cell_type": "code",
   "execution_count": 10,
   "metadata": {},
   "outputs": [
    {
     "data": {
      "text/html": [
       "<div>\n",
       "<style scoped>\n",
       "    .dataframe tbody tr th:only-of-type {\n",
       "        vertical-align: middle;\n",
       "    }\n",
       "\n",
       "    .dataframe tbody tr th {\n",
       "        vertical-align: top;\n",
       "    }\n",
       "\n",
       "    .dataframe thead th {\n",
       "        text-align: right;\n",
       "    }\n",
       "</style>\n",
       "<table border=\"1\" class=\"dataframe\">\n",
       "  <thead>\n",
       "    <tr style=\"text-align: right;\">\n",
       "      <th></th>\n",
       "      <th>score</th>\n",
       "      <th>image_id</th>\n",
       "      <th>user</th>\n",
       "      <th>timestamp</th>\n",
       "    </tr>\n",
       "  </thead>\n",
       "  <tbody>\n",
       "    <tr>\n",
       "      <th>count</th>\n",
       "      <td>124844.0</td>\n",
       "      <td>1.248440e+05</td>\n",
       "      <td>124844.000000</td>\n",
       "      <td>1.248440e+05</td>\n",
       "    </tr>\n",
       "    <tr>\n",
       "      <th>mean</th>\n",
       "      <td>1.0</td>\n",
       "      <td>2.013335e+08</td>\n",
       "      <td>3395.812526</td>\n",
       "      <td>1.380725e+09</td>\n",
       "    </tr>\n",
       "    <tr>\n",
       "      <th>std</th>\n",
       "      <td>0.0</td>\n",
       "      <td>3.928474e+05</td>\n",
       "      <td>2090.746060</td>\n",
       "      <td>1.239704e+08</td>\n",
       "    </tr>\n",
       "    <tr>\n",
       "      <th>min</th>\n",
       "      <td>1.0</td>\n",
       "      <td>2.004110e+08</td>\n",
       "      <td>1.000000</td>\n",
       "      <td>1.100202e+09</td>\n",
       "    </tr>\n",
       "    <tr>\n",
       "      <th>25%</th>\n",
       "      <td>1.0</td>\n",
       "      <td>2.010062e+08</td>\n",
       "      <td>1472.000000</td>\n",
       "      <td>1.277203e+09</td>\n",
       "    </tr>\n",
       "    <tr>\n",
       "      <th>50%</th>\n",
       "      <td>1.0</td>\n",
       "      <td>2.014081e+08</td>\n",
       "      <td>3521.000000</td>\n",
       "      <td>1.407682e+09</td>\n",
       "    </tr>\n",
       "    <tr>\n",
       "      <th>75%</th>\n",
       "      <td>1.0</td>\n",
       "      <td>2.017010e+08</td>\n",
       "      <td>5021.000000</td>\n",
       "      <td>1.483093e+09</td>\n",
       "    </tr>\n",
       "    <tr>\n",
       "      <th>max</th>\n",
       "      <td>1.0</td>\n",
       "      <td>2.019071e+08</td>\n",
       "      <td>7502.000000</td>\n",
       "      <td>1.561939e+09</td>\n",
       "    </tr>\n",
       "  </tbody>\n",
       "</table>\n",
       "</div>"
      ],
      "text/plain": [
       "          score      image_id           user     timestamp\n",
       "count  124844.0  1.248440e+05  124844.000000  1.248440e+05\n",
       "mean        1.0  2.013335e+08    3395.812526  1.380725e+09\n",
       "std         0.0  3.928474e+05    2090.746060  1.239704e+08\n",
       "min         1.0  2.004110e+08       1.000000  1.100202e+09\n",
       "25%         1.0  2.010062e+08    1472.000000  1.277203e+09\n",
       "50%         1.0  2.014081e+08    3521.000000  1.407682e+09\n",
       "75%         1.0  2.017010e+08    5021.000000  1.483093e+09\n",
       "max         1.0  2.019071e+08    7502.000000  1.561939e+09"
      ]
     },
     "execution_count": 10,
     "metadata": {},
     "output_type": "execute_result"
    }
   ],
   "source": [
    "data.describe()"
   ]
  },
  {
   "cell_type": "markdown",
   "metadata": {},
   "source": [
    "Sort and reset index. Also drop score column."
   ]
  },
  {
   "cell_type": "code",
   "execution_count": 11,
   "metadata": {},
   "outputs": [
    {
     "data": {
      "text/html": [
       "<div>\n",
       "<style scoped>\n",
       "    .dataframe tbody tr th:only-of-type {\n",
       "        vertical-align: middle;\n",
       "    }\n",
       "\n",
       "    .dataframe tbody tr th {\n",
       "        vertical-align: top;\n",
       "    }\n",
       "\n",
       "    .dataframe thead th {\n",
       "        text-align: right;\n",
       "    }\n",
       "</style>\n",
       "<table border=\"1\" class=\"dataframe\">\n",
       "  <thead>\n",
       "    <tr style=\"text-align: right;\">\n",
       "      <th></th>\n",
       "      <th>image_id</th>\n",
       "      <th>user</th>\n",
       "      <th>timestamp</th>\n",
       "    </tr>\n",
       "  </thead>\n",
       "  <tbody>\n",
       "    <tr>\n",
       "      <th>0</th>\n",
       "      <td>200411001</td>\n",
       "      <td>1</td>\n",
       "      <td>1100202420</td>\n",
       "    </tr>\n",
       "    <tr>\n",
       "      <th>1</th>\n",
       "      <td>200411002</td>\n",
       "      <td>1</td>\n",
       "      <td>1100202420</td>\n",
       "    </tr>\n",
       "    <tr>\n",
       "      <th>2</th>\n",
       "      <td>200411002</td>\n",
       "      <td>2</td>\n",
       "      <td>1100216220</td>\n",
       "    </tr>\n",
       "    <tr>\n",
       "      <th>3</th>\n",
       "      <td>200411001</td>\n",
       "      <td>2</td>\n",
       "      <td>1100216280</td>\n",
       "    </tr>\n",
       "    <tr>\n",
       "      <th>4</th>\n",
       "      <td>200411001</td>\n",
       "      <td>3</td>\n",
       "      <td>1100220060</td>\n",
       "    </tr>\n",
       "  </tbody>\n",
       "</table>\n",
       "</div>"
      ],
      "text/plain": [
       "    image_id  user   timestamp\n",
       "0  200411001     1  1100202420\n",
       "1  200411002     1  1100202420\n",
       "2  200411002     2  1100216220\n",
       "3  200411001     2  1100216280\n",
       "4  200411001     3  1100220060"
      ]
     },
     "execution_count": 11,
     "metadata": {},
     "output_type": "execute_result"
    }
   ],
   "source": [
    "data = data.sort_values(by=\"timestamp\", ascending=True)\n",
    "data = data.drop([\"score\"], axis=1)\n",
    "data = data.reset_index(drop=True)\n",
    "data.head()"
   ]
  },
  {
   "cell_type": "markdown",
   "metadata": {},
   "source": [
    "**How many users and items left?** Some may have been dropped, so let's count again:"
   ]
  },
  {
   "cell_type": "code",
   "execution_count": 12,
   "metadata": {},
   "outputs": [
    {
     "name": "stdout",
     "output_type": "stream",
     "text": [
      "Users: 3852\n",
      "Items: 22336\n"
     ]
    }
   ],
   "source": [
    "print(\"Users:\", data[\"user\"].nunique())\n",
    "print(\"Items:\", data[\"image_id\"].nunique())"
   ]
  },
  {
   "cell_type": "markdown",
   "metadata": {},
   "source": [
    "**Maximum number of interactions at the same time?** Sometimes this happen"
   ]
  },
  {
   "cell_type": "code",
   "execution_count": 13,
   "metadata": {},
   "outputs": [
    {
     "data": {
      "text/plain": [
       "image_id    30\n",
       "user        30\n",
       "dtype: int64"
      ]
     },
     "execution_count": 13,
     "metadata": {},
     "output_type": "execute_result"
    }
   ],
   "source": [
    "# No idea how (or why)\n",
    "data.groupby([\"timestamp\"]).count().max()"
   ]
  },
  {
   "cell_type": "markdown",
   "metadata": {},
   "source": [
    "**Number of interactions per item?**"
   ]
  },
  {
   "cell_type": "code",
   "execution_count": 14,
   "metadata": {},
   "outputs": [
    {
     "data": {
      "text/plain": [
       "count    22336.000000\n",
       "mean         5.589362\n",
       "std          5.134003\n",
       "min          1.000000\n",
       "25%          1.000000\n",
       "50%          4.000000\n",
       "75%          9.000000\n",
       "max         35.000000\n",
       "Name: user, dtype: float64"
      ]
     },
     "execution_count": 14,
     "metadata": {},
     "output_type": "execute_result"
    }
   ],
   "source": [
    "items = data.groupby([\"image_id\"]).count()[\"user\"]\n",
    "items.describe()"
   ]
  },
  {
   "cell_type": "markdown",
   "metadata": {},
   "source": [
    "**Most active items?**"
   ]
  },
  {
   "cell_type": "code",
   "execution_count": 15,
   "metadata": {},
   "outputs": [
    {
     "data": {
      "text/plain": [
       "image_id\n",
       "201707149    35\n",
       "201904168    34\n",
       "200809038    33\n",
       "201901175    31\n",
       "200610091    31\n",
       "Name: user, dtype: int64"
      ]
     },
     "execution_count": 15,
     "metadata": {},
     "output_type": "execute_result"
    }
   ],
   "source": [
    "most_active_items = items.sort_values(ascending=False)\n",
    "most_active_items.head()"
   ]
  },
  {
   "cell_type": "code",
   "execution_count": 16,
   "metadata": {},
   "outputs": [
    {
     "name": "stdout",
     "output_type": "stream",
     "text": [
      "30.22 % of interactions comes from the top 2234 most active items\n"
     ]
    }
   ],
   "source": [
    "N = 2234  # 10%\n",
    "interactions_by_active_items = most_active_items[:N].sum() / items.sum() * 100\n",
    "print(f\"{interactions_by_active_items:.2f} % of interactions comes from the top {N} most active items\")"
   ]
  },
  {
   "cell_type": "code",
   "execution_count": 17,
   "metadata": {},
   "outputs": [
    {
     "data": {
      "image/png": "[encoded data removed]",
      "text/plain": [
       "<Figure size 432x288 with 1 Axes>"
      ]
     },
     "metadata": {
      "image/png": {
       "height": 248,
       "width": 388
      },
      "needs_background": "light"
     },
     "output_type": "display_data"
    }
   ],
   "source": [
    "sorted_data = np.sort(most_active_items)\n",
    "plt.step(sorted_data, np.arange(sorted_data.size))\n",
    "plt.show()"
   ]
  },
  {
   "cell_type": "code",
   "execution_count": 18,
   "metadata": {},
   "outputs": [
    {
     "data": {
      "image/png": "[encoded data removed]",
      "text/plain": [
       "<Figure size 432x288 with 1 Axes>"
      ]
     },
     "metadata": {
      "image/png": {
       "height": 311,
       "width": 395
      },
      "needs_background": "light"
     },
     "output_type": "display_data"
    }
   ],
   "source": [
    "bins = list(range(1, 20)) + [items.max()]\n",
    "\n",
    "hist, bins = np.histogram(items, bins)\n",
    "x_axis = np.arange(0, len(hist))\n",
    "plt.bar(x_axis, hist)\n",
    "bin_names = [f\"[{bins[i]} - {bins[i+1]})\" for i in range(len(hist))]\n",
    "plt.xticks(x_axis, bin_names, rotation=90)\n",
    "\n",
    "# Title and labels\n",
    "plt.title(\"Interactions per item\")\n",
    "plt.xlabel(\"# interactions\")\n",
    "plt.ylabel(\"# items\")\n",
    "plt.show()"
   ]
  },
  {
   "cell_type": "markdown",
   "metadata": {},
   "source": [
    "**Number of interactions per user?**"
   ]
  },
  {
   "cell_type": "code",
   "execution_count": 19,
   "metadata": {},
   "outputs": [
    {
     "data": {
      "text/plain": [
       "count    3852.000000\n",
       "mean       32.410177\n",
       "std       165.767569\n",
       "min         1.000000\n",
       "25%         1.000000\n",
       "50%         2.000000\n",
       "75%         9.000000\n",
       "max      4081.000000\n",
       "Name: image_id, dtype: float64"
      ]
     },
     "execution_count": 19,
     "metadata": {},
     "output_type": "execute_result"
    }
   ],
   "source": [
    "users = data.groupby([\"user\"]).count()[\"image_id\"]\n",
    "users.describe()"
   ]
  },
  {
   "cell_type": "markdown",
   "metadata": {},
   "source": [
    "**Most active users?**"
   ]
  },
  {
   "cell_type": "code",
   "execution_count": 20,
   "metadata": {},
   "outputs": [
    {
     "data": {
      "text/plain": [
       "user\n",
       "2524    4081\n",
       "4605    3270\n",
       "2133    3017\n",
       "5907    2771\n",
       "5607    2348\n",
       "Name: image_id, dtype: int64"
      ]
     },
     "execution_count": 20,
     "metadata": {},
     "output_type": "execute_result"
    }
   ],
   "source": [
    "most_active_users = users.sort_values(ascending=False)\n",
    "most_active_users.head()"
   ]
  },
  {
   "cell_type": "code",
   "execution_count": 21,
   "metadata": {},
   "outputs": [
    {
     "name": "stdout",
     "output_type": "stream",
     "text": [
      "29.70 % of interactions comes from the top 20 most active users\n"
     ]
    }
   ],
   "source": [
    "N = 20\n",
    "interactions_by_active_users = most_active_users[:N].sum() / users.sum() * 100\n",
    "print(f\"{interactions_by_active_users:.2f} % of interactions comes from the top {N} most active users\")"
   ]
  },
  {
   "cell_type": "code",
   "execution_count": 22,
   "metadata": {},
   "outputs": [
    {
     "data": {
      "image/png": "[encoded data removed]",
      "text/plain": [
       "<Figure size 432x288 with 1 Axes>"
      ]
     },
     "metadata": {
      "image/png": {
       "height": 249,
       "width": 381
      },
      "needs_background": "light"
     },
     "output_type": "display_data"
    }
   ],
   "source": [
    "sorted_data = np.sort(most_active_users)\n",
    "plt.step(sorted_data, np.arange(sorted_data.size))\n",
    "plt.show()"
   ]
  },
  {
   "cell_type": "code",
   "execution_count": 23,
   "metadata": {},
   "outputs": [
    {
     "data": {
      "image/png": "[encoded data removed]",
      "text/plain": [
       "<Figure size 432x288 with 1 Axes>"
      ]
     },
     "metadata": {
      "image/png": {
       "height": 330,
       "width": 395
      },
      "needs_background": "light"
     },
     "output_type": "display_data"
    }
   ],
   "source": [
    "bins = (\n",
    "    list(range(1, 10))\n",
    "    + [10*i for i in range(1, 10)]\n",
    "    + [100*i for i in range(1, 10)]\n",
    "    + [users.max()]\n",
    ")\n",
    "\n",
    "hist, bins = np.histogram(users, bins)\n",
    "x_axis = np.arange(0, len(hist))\n",
    "plt.bar(x_axis, hist)\n",
    "bin_names = [f\"[{bins[i]} - {bins[i+1]})\" for i in range(len(hist))]\n",
    "plt.xticks(x_axis, bin_names, rotation=90)\n",
    "\n",
    "# Title and labels\n",
    "plt.title(\"Interactions per user\")\n",
    "plt.xlabel(\"# interactions\")\n",
    "plt.ylabel(\"# users\")\n",
    "plt.show()"
   ]
  },
  {
   "cell_type": "markdown",
   "metadata": {},
   "source": [
    "## Output"
   ]
  },
  {
   "cell_type": "code",
   "execution_count": 24,
   "metadata": {},
   "outputs": [
    {
     "name": "stdout",
     "output_type": "stream",
     "text": [
      "Unique users: 3852\n",
      "Unique items: 32958\n",
      "Unique items 'interacted': 22336\n",
      "Interactions per user: 32.41017653167186 +/- 165.7675692704495\n",
      "Interactions per item: 3.7879725711511623 +/- 5.440754741791254\n",
      "Interactions per 'interacted' item: 5.589362464183381 +/- 5.134002988026076\n",
      "Possible interactions: 126954216\n",
      "Sparsity: 0.098338%\n"
     ]
    }
   ],
   "source": [
    "n_users = data[\"user\"].nunique()\n",
    "n_items = data[\"image_id\"].nunique()\n",
    "n_items_gt = 32958\n",
    "print(f\"Unique users: {n_users}\")\n",
    "print(f\"Unique items: {n_items_gt}\")\n",
    "print(f\"Unique items 'interacted': {n_items}\")\n",
    "print(f\"Interactions per user: {users.mean()} +/- {users.std()}\")\n",
    "actual_mean = items.sum() / n_items_gt\n",
    "actual_std = np.sqrt(np.mean(np.abs(items - actual_mean)**2))\n",
    "print(f\"Interactions per item: {actual_mean} +/- {actual_std}\") \n",
    "print(f\"Interactions per 'interacted' item: {items.mean()} +/- {items.std()}\")\n",
    "possible_interactions = n_users * n_items_gt\n",
    "print(f\"Possible interactions: {possible_interactions}\")\n",
    "print(f\"Sparsity: {100 * len(data) / possible_interactions:2f}%\")"
   ]
  },
  {
   "cell_type": "code",
   "execution_count": 25,
   "metadata": {},
   "outputs": [
    {
     "data": {
      "text/html": [
       "<div>\n",
       "<style scoped>\n",
       "    .dataframe tbody tr th:only-of-type {\n",
       "        vertical-align: middle;\n",
       "    }\n",
       "\n",
       "    .dataframe tbody tr th {\n",
       "        vertical-align: top;\n",
       "    }\n",
       "\n",
       "    .dataframe thead th {\n",
       "        text-align: right;\n",
       "    }\n",
       "</style>\n",
       "<table border=\"1\" class=\"dataframe\">\n",
       "  <thead>\n",
       "    <tr style=\"text-align: right;\">\n",
       "      <th></th>\n",
       "      <th>image_id</th>\n",
       "      <th>user</th>\n",
       "      <th>timestamp</th>\n",
       "    </tr>\n",
       "  </thead>\n",
       "  <tbody>\n",
       "    <tr>\n",
       "      <th>0</th>\n",
       "      <td>200411001</td>\n",
       "      <td>1</td>\n",
       "      <td>1100202420</td>\n",
       "    </tr>\n",
       "    <tr>\n",
       "      <th>1</th>\n",
       "      <td>200411002</td>\n",
       "      <td>1</td>\n",
       "      <td>1100202420</td>\n",
       "    </tr>\n",
       "    <tr>\n",
       "      <th>2</th>\n",
       "      <td>200411002</td>\n",
       "      <td>2</td>\n",
       "      <td>1100216220</td>\n",
       "    </tr>\n",
       "    <tr>\n",
       "      <th>3</th>\n",
       "      <td>200411001</td>\n",
       "      <td>2</td>\n",
       "      <td>1100216280</td>\n",
       "    </tr>\n",
       "    <tr>\n",
       "      <th>4</th>\n",
       "      <td>200411001</td>\n",
       "      <td>3</td>\n",
       "      <td>1100220060</td>\n",
       "    </tr>\n",
       "    <tr>\n",
       "      <th>...</th>\n",
       "      <td>...</td>\n",
       "      <td>...</td>\n",
       "      <td>...</td>\n",
       "    </tr>\n",
       "    <tr>\n",
       "      <th>124839</th>\n",
       "      <td>201907069</td>\n",
       "      <td>2738</td>\n",
       "      <td>1561931460</td>\n",
       "    </tr>\n",
       "    <tr>\n",
       "      <th>124840</th>\n",
       "      <td>201907045</td>\n",
       "      <td>7374</td>\n",
       "      <td>1561938720</td>\n",
       "    </tr>\n",
       "    <tr>\n",
       "      <th>124841</th>\n",
       "      <td>201907042</td>\n",
       "      <td>7374</td>\n",
       "      <td>1561938780</td>\n",
       "    </tr>\n",
       "    <tr>\n",
       "      <th>124842</th>\n",
       "      <td>201907043</td>\n",
       "      <td>7374</td>\n",
       "      <td>1561938900</td>\n",
       "    </tr>\n",
       "    <tr>\n",
       "      <th>124843</th>\n",
       "      <td>201907046</td>\n",
       "      <td>7374</td>\n",
       "      <td>1561938900</td>\n",
       "    </tr>\n",
       "  </tbody>\n",
       "</table>\n",
       "<p>124844 rows × 3 columns</p>\n",
       "</div>"
      ],
      "text/plain": [
       "         image_id  user   timestamp\n",
       "0       200411001     1  1100202420\n",
       "1       200411002     1  1100202420\n",
       "2       200411002     2  1100216220\n",
       "3       200411001     2  1100216280\n",
       "4       200411001     3  1100220060\n",
       "...           ...   ...         ...\n",
       "124839  201907069  2738  1561931460\n",
       "124840  201907045  7374  1561938720\n",
       "124841  201907042  7374  1561938780\n",
       "124842  201907043  7374  1561938900\n",
       "124843  201907046  7374  1561938900\n",
       "\n",
       "[124844 rows x 3 columns]"
      ]
     },
     "execution_count": 25,
     "metadata": {},
     "output_type": "execute_result"
    }
   ],
   "source": [
    "data"
   ]
  },
  {
   "cell_type": "code",
   "execution_count": 26,
   "metadata": {},
   "outputs": [],
   "source": [
    "data = data.rename(columns={\n",
    "    \"user\": \"user_id\",\n",
    "    \"image_id\": \"item_id\",\n",
    "})\n",
    "data[\"artist_id\"] = -1\n",
    "data = data[[\"user_id\", \"item_id\", \"artist_id\", \"timestamp\"]]\n",
    "data = data.sort_values(\"timestamp\")\n",
    "data = data.reset_index(drop=True)"
   ]
  },
  {
   "cell_type": "code",
   "execution_count": 27,
   "metadata": {},
   "outputs": [],
   "source": [
    "data.to_csv(\"wikimedia.csv\", index=False)"
   ]
  },
  {
   "cell_type": "code",
   "execution_count": 28,
   "metadata": {},
   "outputs": [
    {
     "data": {
      "text/html": [
       "<div>\n",
       "<style scoped>\n",
       "    .dataframe tbody tr th:only-of-type {\n",
       "        vertical-align: middle;\n",
       "    }\n",
       "\n",
       "    .dataframe tbody tr th {\n",
       "        vertical-align: top;\n",
       "    }\n",
       "\n",
       "    .dataframe thead th {\n",
       "        text-align: right;\n",
       "    }\n",
       "</style>\n",
       "<table border=\"1\" class=\"dataframe\">\n",
       "  <thead>\n",
       "    <tr style=\"text-align: right;\">\n",
       "      <th></th>\n",
       "      <th>user_id</th>\n",
       "      <th>item_id</th>\n",
       "      <th>artist_id</th>\n",
       "      <th>timestamp</th>\n",
       "    </tr>\n",
       "  </thead>\n",
       "  <tbody>\n",
       "    <tr>\n",
       "      <th>0</th>\n",
       "      <td>1</td>\n",
       "      <td>200411001</td>\n",
       "      <td>-1</td>\n",
       "      <td>1100202420</td>\n",
       "    </tr>\n",
       "    <tr>\n",
       "      <th>1</th>\n",
       "      <td>1</td>\n",
       "      <td>200411002</td>\n",
       "      <td>-1</td>\n",
       "      <td>1100202420</td>\n",
       "    </tr>\n",
       "    <tr>\n",
       "      <th>2</th>\n",
       "      <td>2</td>\n",
       "      <td>200411002</td>\n",
       "      <td>-1</td>\n",
       "      <td>1100216220</td>\n",
       "    </tr>\n",
       "    <tr>\n",
       "      <th>3</th>\n",
       "      <td>2</td>\n",
       "      <td>200411001</td>\n",
       "      <td>-1</td>\n",
       "      <td>1100216280</td>\n",
       "    </tr>\n",
       "    <tr>\n",
       "      <th>4</th>\n",
       "      <td>3</td>\n",
       "      <td>200411001</td>\n",
       "      <td>-1</td>\n",
       "      <td>1100220060</td>\n",
       "    </tr>\n",
       "    <tr>\n",
       "      <th>...</th>\n",
       "      <td>...</td>\n",
       "      <td>...</td>\n",
       "      <td>...</td>\n",
       "      <td>...</td>\n",
       "    </tr>\n",
       "    <tr>\n",
       "      <th>124839</th>\n",
       "      <td>2738</td>\n",
       "      <td>201907069</td>\n",
       "      <td>-1</td>\n",
       "      <td>1561931460</td>\n",
       "    </tr>\n",
       "    <tr>\n",
       "      <th>124840</th>\n",
       "      <td>7374</td>\n",
       "      <td>201907045</td>\n",
       "      <td>-1</td>\n",
       "      <td>1561938720</td>\n",
       "    </tr>\n",
       "    <tr>\n",
       "      <th>124841</th>\n",
       "      <td>7374</td>\n",
       "      <td>201907042</td>\n",
       "      <td>-1</td>\n",
       "      <td>1561938780</td>\n",
       "    </tr>\n",
       "    <tr>\n",
       "      <th>124842</th>\n",
       "      <td>7374</td>\n",
       "      <td>201907043</td>\n",
       "      <td>-1</td>\n",
       "      <td>1561938900</td>\n",
       "    </tr>\n",
       "    <tr>\n",
       "      <th>124843</th>\n",
       "      <td>7374</td>\n",
       "      <td>201907046</td>\n",
       "      <td>-1</td>\n",
       "      <td>1561938900</td>\n",
       "    </tr>\n",
       "  </tbody>\n",
       "</table>\n",
       "<p>124844 rows × 4 columns</p>\n",
       "</div>"
      ],
      "text/plain": [
       "        user_id    item_id  artist_id   timestamp\n",
       "0             1  200411001         -1  1100202420\n",
       "1             1  200411002         -1  1100202420\n",
       "2             2  200411002         -1  1100216220\n",
       "3             2  200411001         -1  1100216280\n",
       "4             3  200411001         -1  1100220060\n",
       "...         ...        ...        ...         ...\n",
       "124839     2738  201907069         -1  1561931460\n",
       "124840     7374  201907045         -1  1561938720\n",
       "124841     7374  201907042         -1  1561938780\n",
       "124842     7374  201907043         -1  1561938900\n",
       "124843     7374  201907046         -1  1561938900\n",
       "\n",
       "[124844 rows x 4 columns]"
      ]
     },
     "execution_count": 28,
     "metadata": {},
     "output_type": "execute_result"
    }
   ],
   "source": [
    "data"
   ]
  }
 ],
 "metadata": {
  "kernelspec": {
   "display_name": "3.8.5",
   "language": "python",
   "name": "3.8.5"
  },
  "language_info": {
   "codemirror_mode": {
    "name": "ipython",
    "version": 3
   },
   "file_extension": ".py",
   "mimetype": "text/x-python",
   "name": "python",
   "nbconvert_exporter": "python",
   "pygments_lexer": "ipython3",
   "version": "3.8.5"
  }
 },
 "nbformat": 4,
 "nbformat_minor": 4
}
